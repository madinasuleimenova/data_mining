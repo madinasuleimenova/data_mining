{
 "cells": [
  {
   "cell_type": "markdown",
   "id": "f5ecb157",
   "metadata": {},
   "source": [
    "### Suleimenova Madina"
   ]
  },
  {
   "cell_type": "markdown",
   "id": "3f254e69",
   "metadata": {},
   "source": [
    "### Exercise 1: Anomaly Detection"
   ]
  },
  {
   "cell_type": "code",
   "execution_count": 1,
   "id": "ac13c3a1",
   "metadata": {},
   "outputs": [
    {
     "name": "stdout",
     "output_type": "stream",
     "text": [
      "   Time        V1        V2        V3        V4        V5        V6        V7  \\\n",
      "0   0.0 -1.359807 -0.072781  2.536347  1.378155 -0.338321  0.462388  0.239599   \n",
      "1   0.0  1.191857  0.266151  0.166480  0.448154  0.060018 -0.082361 -0.078803   \n",
      "2   1.0 -1.358354 -1.340163  1.773209  0.379780 -0.503198  1.800499  0.791461   \n",
      "3   1.0 -0.966272 -0.185226  1.792993 -0.863291 -0.010309  1.247203  0.237609   \n",
      "4   2.0 -1.158233  0.877737  1.548718  0.403034 -0.407193  0.095921  0.592941   \n",
      "\n",
      "         V8        V9  ...       V21       V22       V23       V24       V25  \\\n",
      "0  0.098698  0.363787  ... -0.018307  0.277838 -0.110474  0.066928  0.128539   \n",
      "1  0.085102 -0.255425  ... -0.225775 -0.638672  0.101288 -0.339846  0.167170   \n",
      "2  0.247676 -1.514654  ...  0.247998  0.771679  0.909412 -0.689281 -0.327642   \n",
      "3  0.377436 -1.387024  ... -0.108300  0.005274 -0.190321 -1.175575  0.647376   \n",
      "4 -0.270533  0.817739  ... -0.009431  0.798278 -0.137458  0.141267 -0.206010   \n",
      "\n",
      "        V26       V27       V28  Amount  Class  \n",
      "0 -0.189115  0.133558 -0.021053  149.62      0  \n",
      "1  0.125895 -0.008983  0.014724    2.69      0  \n",
      "2 -0.139097 -0.055353 -0.059752  378.66      0  \n",
      "3 -0.221929  0.062723  0.061458  123.50      0  \n",
      "4  0.502292  0.219422  0.215153   69.99      0  \n",
      "\n",
      "[5 rows x 31 columns]\n"
     ]
    }
   ],
   "source": [
    "# Import necessary libraries\n",
    "import pandas as pd\n",
    "import numpy as np\n",
    "import matplotlib.pyplot as plt\n",
    "import seaborn as sns\n",
    "from sklearn.model_selection import train_test_split\n",
    "from sklearn.ensemble import IsolationForest\n",
    "from sklearn.svm import OneClassSVM\n",
    "from sklearn.metrics import precision_score, recall_score, f1_score, confusion_matrix, roc_curve, auc\n",
    "from scipy.stats import zscore\n",
    "\n",
    "# 1. Data Collection\n",
    "# Load the dataset\n",
    "df = pd.read_csv('C:\\\\Users\\\\sulej\\\\OneDrive\\\\Рабочий стол\\\\7 semester\\\\Data Mining\\\\creditcard.csv')  # Replace 'data.csv' with your dataset file path\n",
    "print(df.head())  # Initial EDA"
   ]
  },
  {
   "cell_type": "code",
   "execution_count": 2,
   "id": "246be885",
   "metadata": {},
   "outputs": [],
   "source": [
    "# 2. Data Preprocessing\n",
    "# Handling missing values\n",
    "df.fillna(df.median(), inplace=True)\n",
    "\n",
    "# Handling outliers (using Z-score)\n",
    "df = df[(np.abs(zscore(df.select_dtypes(include=np.number))) < 3).all(axis=1)]\n",
    "\n",
    "# Normalization/Standardization (if necessary)\n",
    "from sklearn.preprocessing import StandardScaler\n",
    "scaler = StandardScaler()\n",
    "df[df.columns] = scaler.fit_transform(df)\n"
   ]
  },
  {
   "cell_type": "code",
   "execution_count": 8,
   "id": "9bd98c6a",
   "metadata": {},
   "outputs": [],
   "source": [
    "# Reduce the dataset size for performance optimization\n",
    "df_sample = df.sample(frac=0.15, random_state=42)  # Use 15% of the data"
   ]
  },
  {
   "cell_type": "code",
   "execution_count": 9,
   "id": "a9ded87b",
   "metadata": {},
   "outputs": [
    {
     "name": "stdout",
     "output_type": "stream",
     "text": [
      "            Time        V1        V2        V3        V4        V5        V6  \\\n",
      "107991 -0.509805 -1.117152  0.245518  1.004418 -0.877457  0.388048  1.196387   \n",
      "87661  -0.698447  0.661739 -0.273469  0.850671  0.164421 -1.110793 -0.322429   \n",
      "256911  1.333473 -1.104693 -0.100484 -0.623590 -1.538038  3.837665  2.823939   \n",
      "112193 -0.470809 -1.034482  0.716485  0.895721  0.072415 -0.020267 -0.741446   \n",
      "66107  -0.907548  0.520284 -0.331205  0.657761  0.548759 -0.997411 -0.476766   \n",
      "\n",
      "              V7        V8        V9  ...       V24       V25       V26  \\\n",
      "107991 -0.648599  2.091580 -0.393149  ... -1.744523 -2.013084  1.563974   \n",
      "87661  -0.861943 -0.149494  1.015078  ...  0.851038  0.293803  2.144293   \n",
      "256911  0.372174  1.033232  0.119280  ...  1.246165 -0.230248  0.359909   \n",
      "112193  1.686948 -0.598035 -0.596736  ...  0.688872  1.175529  0.892518   \n",
      "66107  -0.455066 -0.279014  0.474868  ...  0.737000  0.258858  0.829544   \n",
      "\n",
      "             V27       V28    Amount  Class  anomaly_zscore  anomaly_if  \\\n",
      "107991 -0.176207 -0.141460 -0.483278    0.0               0           0   \n",
      "87661  -0.158197  0.083306 -0.580608    0.0               0           0   \n",
      "256911 -0.265760  0.017706 -0.460409    0.0               1           0   \n",
      "112193  0.539774  0.949980  0.585190    0.0               0           0   \n",
      "66107  -0.137983  0.270922  0.342271    0.0               0           0   \n",
      "\n",
      "        anomaly_ocsvm  \n",
      "107991              0  \n",
      "87661               0  \n",
      "256911              0  \n",
      "112193              0  \n",
      "66107               0  \n",
      "\n",
      "[5 rows x 34 columns]\n"
     ]
    }
   ],
   "source": [
    "# 3. Anomaly Detection Techniques\n",
    "# Statistical Method - Z-Score\n",
    "df_sample['anomaly_zscore'] = (np.abs(zscore(df_sample.select_dtypes(include=np.number))) > 3).any(axis=1).astype(int)\n",
    "\n",
    "# Machine Learning Method - Isolation Forest\n",
    "iso_forest = IsolationForest(contamination=0.1, random_state=42)\n",
    "df_sample['anomaly_if'] = iso_forest.fit_predict(df_sample.drop('anomaly_zscore', axis=1))\n",
    "df_sample['anomaly_if'] = df_sample['anomaly_if'].apply(lambda x: 1 if x == -1 else 0)\n",
    "\n",
    "# One-Class SVM\n",
    "svm = OneClassSVM(nu=0.1, kernel=\"rbf\", gamma=0.1)\n",
    "df_sample['anomaly_ocsvm'] = svm.fit_predict(df_sample.drop(['anomaly_zscore', 'anomaly_if'], axis=1))\n",
    "df_sample['anomaly_ocsvm'] = df_sample['anomaly_ocsvm'].apply(lambda x: 1 if x == -1 else 0)\n",
    "\n",
    "# Print the first few rows to verify\n",
    "print(df_sample.head())"
   ]
  },
  {
   "cell_type": "code",
   "execution_count": 10,
   "id": "bda6fef3",
   "metadata": {},
   "outputs": [
    {
     "name": "stdout",
     "output_type": "stream",
     "text": [
      "Isolation Forest - Precision: 1.0, Recall: 1.0, F1 Score: 1.0\n",
      "Confusion Matrix:\n",
      " [[9936    0]\n",
      " [   0 1177]]\n"
     ]
    },
    {
     "data": {
      "image/png": "[encoded data removed]",
      "text/plain": [
       "<Figure size 432x288 with 1 Axes>"
      ]
     },
     "metadata": {
      "needs_background": "light"
     },
     "output_type": "display_data"
    }
   ],
   "source": [
    "# 4. Model Evaluation\n",
    "# Splitting data (use df_sample for performance optimization)\n",
    "X_train, X_test, y_train, y_test = train_test_split(\n",
    "    df_sample.drop(['anomaly_zscore', 'anomaly_if', 'anomaly_ocsvm'], axis=1),\n",
    "    df_sample['anomaly_if'],\n",
    "    test_size=0.3,\n",
    "    random_state=42\n",
    ")\n",
    "\n",
    "# Evaluate Isolation Forest\n",
    "precision = precision_score(y_test, df_sample.loc[y_test.index, 'anomaly_if'])\n",
    "recall = recall_score(y_test, df_sample.loc[y_test.index, 'anomaly_if'])\n",
    "f1 = f1_score(y_test, df_sample.loc[y_test.index, 'anomaly_if'])\n",
    "print(f\"Isolation Forest - Precision: {precision}, Recall: {recall}, F1 Score: {f1}\")\n",
    "\n",
    "# Confusion Matrix & ROC\n",
    "cm = confusion_matrix(y_test, df_sample.loc[y_test.index, 'anomaly_if'])\n",
    "print(\"Confusion Matrix:\\n\", cm)\n",
    "fpr, tpr, thresholds = roc_curve(y_test, df_sample.loc[y_test.index, 'anomaly_if'])\n",
    "roc_auc = auc(fpr, tpr)\n",
    "\n",
    "# Plot ROC Curve\n",
    "plt.plot(fpr, tpr, label=f'Isolation Forest ROC curve (area = {roc_auc:.2f})')\n",
    "plt.xlabel('False Positive Rate')\n",
    "plt.ylabel('True Positive Rate')\n",
    "plt.title('ROC Curve')\n",
    "plt.legend()\n",
    "plt.show()"
   ]
  },
  {
   "cell_type": "code",
   "execution_count": 11,
   "id": "db6fde43",
   "metadata": {},
   "outputs": [
    {
     "data": {
      "image/png": "[encoded data removed]",
      "text/plain": [
       "<Figure size 432x288 with 1 Axes>"
      ]
     },
     "metadata": {
      "needs_background": "light"
     },
     "output_type": "display_data"
    },
    {
     "name": "stdout",
     "output_type": "stream",
     "text": [
      "Number of detected anomalies by Isolation Forest: 3704\n"
     ]
    }
   ],
   "source": [
    "# 5. Visualization\n",
    "sns.scatterplot(\n",
    "    x=df_sample.index, \n",
    "    y=df_sample[df_sample.columns[0]], \n",
    "    hue='anomaly_if', \n",
    "    data=df_sample\n",
    ")\n",
    "plt.title(\"Anomalies Detected by Isolation Forest\")\n",
    "plt.show()\n",
    "\n",
    "# 6. Reporting Findings\n",
    "print(f\"Number of detected anomalies by Isolation Forest: {df_sample['anomaly_if'].sum()}\")"
   ]
  },
  {
   "cell_type": "code",
   "execution_count": 12,
   "id": "2da2267c",
   "metadata": {},
   "outputs": [
    {
     "name": "stdout",
     "output_type": "stream",
     "text": [
      "<class 'pandas.core.frame.DataFrame'>\n",
      "Int64Index: 37041 entries, 107991 to 146704\n",
      "Data columns (total 34 columns):\n",
      " #   Column          Non-Null Count  Dtype  \n",
      "---  ------          --------------  -----  \n",
      " 0   Time            37041 non-null  float64\n",
      " 1   V1              37041 non-null  float64\n",
      " 2   V2              37041 non-null  float64\n",
      " 3   V3              37041 non-null  float64\n",
      " 4   V4              37041 non-null  float64\n",
      " 5   V5              37041 non-null  float64\n",
      " 6   V6              37041 non-null  float64\n",
      " 7   V7              37041 non-null  float64\n",
      " 8   V8              37041 non-null  float64\n",
      " 9   V9              37041 non-null  float64\n",
      " 10  V10             37041 non-null  float64\n",
      " 11  V11             37041 non-null  float64\n",
      " 12  V12             37041 non-null  float64\n",
      " 13  V13             37041 non-null  float64\n",
      " 14  V14             37041 non-null  float64\n",
      " 15  V15             37041 non-null  float64\n",
      " 16  V16             37041 non-null  float64\n",
      " 17  V17             37041 non-null  float64\n",
      " 18  V18             37041 non-null  float64\n",
      " 19  V19             37041 non-null  float64\n",
      " 20  V20             37041 non-null  float64\n",
      " 21  V21             37041 non-null  float64\n",
      " 22  V22             37041 non-null  float64\n",
      " 23  V23             37041 non-null  float64\n",
      " 24  V24             37041 non-null  float64\n",
      " 25  V25             37041 non-null  float64\n",
      " 26  V26             37041 non-null  float64\n",
      " 27  V27             37041 non-null  float64\n",
      " 28  V28             37041 non-null  float64\n",
      " 29  Amount          37041 non-null  float64\n",
      " 30  Class           37041 non-null  float64\n",
      " 31  anomaly_zscore  37041 non-null  int32  \n",
      " 32  anomaly_if      37041 non-null  int64  \n",
      " 33  anomaly_ocsvm   37041 non-null  int64  \n",
      "dtypes: float64(31), int32(1), int64(2)\n",
      "memory usage: 10.8 MB\n",
      "None\n"
     ]
    }
   ],
   "source": [
    "print(df_sample.info())"
   ]
  },
  {
   "cell_type": "code",
   "execution_count": null,
   "id": "ecb1a3a7",
   "metadata": {},
   "outputs": [],
   "source": []
  }
 ],
 "metadata": {
  "kernelspec": {
   "display_name": "Python 3 (ipykernel)",
   "language": "python",
   "name": "python3"
  },
  "language_info": {
   "codemirror_mode": {
    "name": "ipython",
    "version": 3
   },
   "file_extension": ".py",
   "mimetype": "text/x-python",
   "name": "python",
   "nbconvert_exporter": "python",
   "pygments_lexer": "ipython3",
   "version": "3.9.12"
  }
 },
 "nbformat": 4,
 "nbformat_minor": 5
}
