{
 "cells": [
  {
   "cell_type": "markdown",
   "id": "9c880973",
   "metadata": {},
   "source": [
    "### Suleimenova Madina"
   ]
  },
  {
   "cell_type": "markdown",
   "id": "14ef8735",
   "metadata": {},
   "source": [
    "### Midterm Project"
   ]
  },
  {
   "cell_type": "code",
   "execution_count": 1,
   "id": "544b59e9",
   "metadata": {},
   "outputs": [],
   "source": [
    "# libs that I used\n",
    "import pandas as pd\n",
    "import numpy as np\n",
    "from sklearn.model_selection import train_test_split\n",
    "from sklearn.preprocessing import StandardScaler, LabelEncoder\n",
    "from sklearn.impute import SimpleImputer\n",
    "import matplotlib.pyplot as plt\n",
    "import seaborn as sns\n",
    "import datetime as dt\n",
    "from sklearn.linear_model import LogisticRegression\n",
    "from sklearn.metrics import accuracy_score, classification_report\n",
    "from sklearn.tree import DecisionTreeClassifier\n",
    "from sklearn.decomposition import PCA"
   ]
  },
  {
   "cell_type": "code",
   "execution_count": 2,
   "id": "532bae0f",
   "metadata": {},
   "outputs": [],
   "source": [
    "# First of all we need to load our dataset\n",
    "data = pd.read_excel('C:\\\\Users\\\\sulej\\\\OneDrive\\\\Рабочий стол\\\\7 semester\\\\Data Mining\\\\Online Retail.xlsx')"
   ]
  },
  {
   "cell_type": "code",
   "execution_count": 3,
   "id": "eef8bd32",
   "metadata": {},
   "outputs": [
    {
     "name": "stdout",
     "output_type": "stream",
     "text": [
      "  InvoiceNo StockCode                          Description  Quantity  \\\n",
      "0    536365    85123A   WHITE HANGING HEART T-LIGHT HOLDER         6   \n",
      "1    536365     71053                  WHITE METAL LANTERN         6   \n",
      "2    536365    84406B       CREAM CUPID HEARTS COAT HANGER         8   \n",
      "3    536365    84029G  KNITTED UNION FLAG HOT WATER BOTTLE         6   \n",
      "4    536365    84029E       RED WOOLLY HOTTIE WHITE HEART.         6   \n",
      "\n",
      "          InvoiceDate  UnitPrice  CustomerID         Country  \n",
      "0 2010-12-01 08:26:00       2.55     17850.0  United Kingdom  \n",
      "1 2010-12-01 08:26:00       3.39     17850.0  United Kingdom  \n",
      "2 2010-12-01 08:26:00       2.75     17850.0  United Kingdom  \n",
      "3 2010-12-01 08:26:00       3.39     17850.0  United Kingdom  \n",
      "4 2010-12-01 08:26:00       3.39     17850.0  United Kingdom  \n",
      "InvoiceNo           0\n",
      "StockCode           0\n",
      "Description      1454\n",
      "Quantity            0\n",
      "InvoiceDate         0\n",
      "UnitPrice           0\n",
      "CustomerID     135037\n",
      "Country             0\n",
      "dtype: int64\n"
     ]
    }
   ],
   "source": [
    "# Lets see our data\n",
    "print(data.head())\n",
    "\n",
    "# Now we can start cleaning our dataset\n",
    "# We can drop duplicates\n",
    "data.drop_duplicates(inplace=True)\n",
    "\n",
    "# Now lets see is there any missing values \n",
    "print(data.isnull().sum())\n",
    "\n",
    "# As we see there are a lot of missing data in CustomerID column, we need to delete them\n",
    "data.dropna(subset=['CustomerID'], inplace=True)"
   ]
  },
  {
   "cell_type": "code",
   "execution_count": 4,
   "id": "654ef914",
   "metadata": {},
   "outputs": [
    {
     "name": "stdout",
     "output_type": "stream",
     "text": [
      "<class 'pandas.core.frame.DataFrame'>\n",
      "Int64Index: 65823 entries, 9 to 541892\n",
      "Data columns (total 9 columns):\n",
      " #   Column       Non-Null Count  Dtype         \n",
      "---  ------       --------------  -----         \n",
      " 0   InvoiceNo    65823 non-null  object        \n",
      " 1   StockCode    65823 non-null  object        \n",
      " 2   Description  65823 non-null  object        \n",
      " 3   Quantity     65823 non-null  float64       \n",
      " 4   InvoiceDate  65823 non-null  datetime64[ns]\n",
      " 5   UnitPrice    65823 non-null  float64       \n",
      " 6   CustomerID   65823 non-null  float64       \n",
      " 7   Country      65823 non-null  int32         \n",
      " 8   TotalPrice   65823 non-null  float64       \n",
      "dtypes: datetime64[ns](1), float64(4), int32(1), object(3)\n",
      "memory usage: 4.8+ MB\n",
      "None\n"
     ]
    }
   ],
   "source": [
    "# Now we can encode some categorical variables \n",
    "data['Country'] = LabelEncoder().fit_transform(data['Country'])\n",
    "\n",
    "# Also I think we need to create TotalPrice => (Quantity * UnitPrice)\n",
    "data['TotalPrice'] = data['Quantity'] * data['UnitPrice']\n",
    "\n",
    "# We can scale numerical features\n",
    "scaler = StandardScaler()\n",
    "data[['Quantity', 'TotalPrice']] = scaler.fit_transform(data[['Quantity', 'TotalPrice']])\n",
    "\n",
    "# And remove outliers\n",
    "data = data[data['Quantity'] > 0]\n",
    "\n",
    "print(data.info())\n"
   ]
  },
  {
   "cell_type": "code",
   "execution_count": 5,
   "id": "792a18e1",
   "metadata": {},
   "outputs": [
    {
     "data": {
      "image/png": "[encoded data removed]",
      "text/plain": [
       "<Figure size 720x432 with 1 Axes>"
      ]
     },
     "metadata": {
      "needs_background": "light"
     },
     "output_type": "display_data"
    }
   ],
   "source": [
    "# Now we can visualize our data\n",
    "plt.figure(figsize=(10, 6))\n",
    "\n",
    "# Apply a log transformation to Quantity to handle the skewed distribution\n",
    "sns.histplot(np.log1p(data['Quantity']), bins=30, color='darkblue', kde=True)\n",
    "\n",
    "plt.title('Log-Transformed Quantity Distribution', fontsize=14)\n",
    "plt.xlabel('Log(Quantity)', fontsize=12)\n",
    "plt.ylabel('Count', fontsize=12)\n",
    "\n",
    "# Adding mean and median annotations\n",
    "mean_value = np.mean(np.log1p(data['Quantity']))\n",
    "median_value = np.median(np.log1p(data['Quantity']))\n",
    "plt.axvline(mean_value, color='red', linestyle='--', label=f'Mean: {mean_value:.2f}')\n",
    "plt.axvline(median_value, color='green', linestyle='--', label=f'Median: {median_value:.2f}')\n",
    "plt.legend()\n",
    "\n",
    "plt.show()"
   ]
  },
  {
   "cell_type": "code",
   "execution_count": 6,
   "id": "76257f32",
   "metadata": {},
   "outputs": [
    {
     "data": {
      "image/png": "[encoded data removed]",
      "text/plain": [
       "<Figure size 720x432 with 1 Axes>"
      ]
     },
     "metadata": {
      "needs_background": "light"
     },
     "output_type": "display_data"
    }
   ],
   "source": [
    "# Log scale for Total Price\n",
    "plt.figure(figsize=(10, 6))\n",
    "\n",
    "# Apply log transformation to deal with skewness\n",
    "sns.histplot(np.log1p(data['TotalPrice']), bins=30, color='darkgreen', kde=True)\n",
    "\n",
    "plt.title('Log-Transformed Total Price Distribution', fontsize=14)\n",
    "plt.xlabel('Log(Total Price)', fontsize=12)\n",
    "plt.ylabel('Count', fontsize=12)\n",
    "\n",
    "# Adding mean and median annotations\n",
    "mean_value = np.mean(np.log1p(data['TotalPrice']))\n",
    "median_value = np.median(np.log1p(data['TotalPrice']))\n",
    "plt.axvline(mean_value, color='red', linestyle='--', label=f'Mean: {mean_value:.2f}')\n",
    "plt.axvline(median_value, color='green', linestyle='--', label=f'Median: {median_value:.2f}')\n",
    "plt.legend()\n",
    "\n",
    "plt.show()\n"
   ]
  },
  {
   "cell_type": "code",
   "execution_count": 7,
   "id": "832ea406",
   "metadata": {},
   "outputs": [
    {
     "data": {
      "image/png": "[encoded data removed]",
      "text/plain": [
       "<Figure size 576x432 with 1 Axes>"
      ]
     },
     "metadata": {
      "needs_background": "light"
     },
     "output_type": "display_data"
    }
   ],
   "source": [
    "# Scatter plot for Unit Price vs Quantity with log scale\n",
    "plt.figure(figsize=(8, 6))\n",
    "\n",
    "# Apply log transformation to UnitPrice and Quantity\n",
    "sns.scatterplot(x=np.log1p(data['UnitPrice']), y=np.log1p(data['Quantity']), data=data, color='purple')\n",
    "\n",
    "plt.title('Log-Transformed Unit Price vs Quantity', fontsize=14)\n",
    "plt.xlabel('Log(Unit Price)', fontsize=12)\n",
    "plt.ylabel('Log(Quantity)', fontsize=12)\n",
    "\n",
    "plt.show()"
   ]
  },
  {
   "cell_type": "code",
   "execution_count": 8,
   "id": "f295491e",
   "metadata": {},
   "outputs": [
    {
     "data": {
      "image/png": "[encoded data removed]",
      "text/plain": [
       "<Figure size 576x432 with 1 Axes>"
      ]
     },
     "metadata": {
      "needs_background": "light"
     },
     "output_type": "display_data"
    }
   ],
   "source": [
    "# Box plot for Total Price with y-axis limit\n",
    "plt.figure(figsize=(8, 6))\n",
    "\n",
    "# Apply log transformation to TotalPrice to manage skewness\n",
    "sns.boxplot(y=np.log1p(data['TotalPrice']), color='coral')\n",
    "\n",
    "plt.title('Log-Transformed Boxplot of Total Price', fontsize=14)\n",
    "plt.ylabel('Log(Total Price)', fontsize=12)\n",
    "\n",
    "plt.show()"
   ]
  },
  {
   "cell_type": "markdown",
   "id": "e5185527",
   "metadata": {},
   "source": [
    "Summaries\n",
    "Quantity Distribution\n",
    "The original histogram for Quantity was highly skewed with most of the values concentrated near zero and a few outliers at high quantities.\n",
    "After applying a log transformation, the plot becomes more informative. Most transactions involve small quantities, while the distribution spreads out more smoothly across a larger range of values.\n",
    "The mean and median lines show that the data is still skewed, but much easier to interpret.\n",
    "Total Price Distribution\n",
    "Similar to Quantity, TotalPrice is skewed, with the majority of transactions having small total prices and a few extreme outliers.\n",
    "After log transformation, the distribution is more spread out, revealing that the majority of transactions fall within a more reasonable range. The mean and median lines help identify the central tendency of the data.\n",
    "Scatter Plot: Unit Price vs Quantity\n",
    "The original scatter plot shows most data points clustered around low values for both UnitPrice and Quantity, with outliers difficult to see.\n",
    "By applying log transformations, the scatter plot becomes more balanced. This transformation spreads out the data points, revealing possible trends and making it easier to analyze the relationship between UnitPrice and Quantity.\n",
    "Box Plot for Total Price\n",
    "The original box plot is heavily skewed, with a few very large TotalPrice values pushing most of the data into a narrow range near the bottom.\n",
    "Using a log transformation helps flatten the outliers and brings the majority of the data into view. This shows the interquartile range (IQR) more clearly and makes it easier to spot potential outliers without distorting the plot."
   ]
  },
  {
   "cell_type": "code",
   "execution_count": 9,
   "id": "81a661be",
   "metadata": {},
   "outputs": [
    {
     "name": "stdout",
     "output_type": "stream",
     "text": [
      "Explained variance ratio: [0.51564727 0.3138799 ]\n"
     ]
    }
   ],
   "source": [
    "# I want to make RFM\n",
    "# import datetime as dt\n",
    "data['InvoiceDate'] = pd.to_datetime(data['InvoiceDate'])\n",
    "\n",
    "# Create a snapshot date\n",
    "snapshot_date = max(data['InvoiceDate']) + dt.timedelta(days=1)\n",
    "\n",
    "# Recency => Days since last purchase\n",
    "data['Recency'] = (snapshot_date - data.groupby('CustomerID')['InvoiceDate'].transform('max')).dt.days\n",
    "\n",
    "# Frequency => Number of purchases\n",
    "data['Frequency'] = data.groupby('CustomerID')['InvoiceNo'].transform('nunique')\n",
    "\n",
    "# Monetary => Total spending by customer\n",
    "data['Monetary'] = data.groupby('CustomerID')['TotalPrice'].transform('sum')\n",
    "\n",
    "# Drop duplicates for customer-based analysis\n",
    "rfm_data = data[['CustomerID', 'Recency', 'Frequency', 'Monetary']].drop_duplicates()\n",
    "\n",
    "# Dimensionality Reduction with PCA\n",
    "# Standardize the features\n",
    "scaler = StandardScaler()\n",
    "rfm_scaled = scaler.fit_transform(rfm_data[['Recency', 'Frequency', 'Monetary']])\n",
    "\n",
    "# Apply PCA\n",
    "pca = PCA(n_components=2)\n",
    "rfm_pca = pca.fit_transform(rfm_scaled)\n",
    "\n",
    "print('Explained variance ratio:', pca.explained_variance_ratio_)\n"
   ]
  },
  {
   "cell_type": "code",
   "execution_count": 10,
   "id": "2a9c7c51",
   "metadata": {},
   "outputs": [
    {
     "name": "stderr",
     "output_type": "stream",
     "text": [
      "C:\\Users\\sulej\\anaconda3\\lib\\site-packages\\sklearn\\linear_model\\_logistic.py:814: ConvergenceWarning: lbfgs failed to converge (status=1):\n",
      "STOP: TOTAL NO. of ITERATIONS REACHED LIMIT.\n",
      "\n",
      "Increase the number of iterations (max_iter) or scale the data as shown in:\n",
      "    https://scikit-learn.org/stable/modules/preprocessing.html\n",
      "Please also refer to the documentation for alternative solver options:\n",
      "    https://scikit-learn.org/stable/modules/linear_model.html#logistic-regression\n",
      "  n_iter_i = _check_optimize_result(\n"
     ]
    },
    {
     "name": "stdout",
     "output_type": "stream",
     "text": [
      "Accuracy: 0.8708697303456133\n",
      "              precision    recall  f1-score   support\n",
      "\n",
      "           0       1.00      0.86      0.92       135\n",
      "           1       0.00      0.00      0.00        11\n",
      "           3       0.00      0.00      0.00        65\n",
      "           4       0.00      0.00      0.00         1\n",
      "           5       0.00      0.00      0.00        11\n",
      "           6       0.00      0.00      0.00        22\n",
      "           7       0.00      0.00      0.00        19\n",
      "           8       0.00      0.00      0.00         2\n",
      "           9       0.00      0.00      0.00        35\n",
      "          10       1.00      0.66      0.80       364\n",
      "          11       0.00      0.00      0.00         1\n",
      "          12       0.00      0.00      0.00        39\n",
      "          13       0.00      0.00      0.00       322\n",
      "          14       0.00      0.00      0.00       401\n",
      "          15       0.00      0.00      0.00         2\n",
      "          16       0.00      0.00      0.00        10\n",
      "          17       0.00      0.00      0.00        24\n",
      "          18       0.00      0.00      0.00        28\n",
      "          19       0.00      0.00      0.00        44\n",
      "          21       0.00      0.00      0.00         5\n",
      "          22       0.00      0.00      0.00         1\n",
      "          23       0.79      0.95      0.86       340\n",
      "          24       0.00      0.00      0.00        72\n",
      "          25       0.00      0.00      0.00        12\n",
      "          26       0.00      0.00      0.00        52\n",
      "          29       0.00      0.00      0.00        17\n",
      "          30       0.00      0.00      0.00        75\n",
      "          31       0.00      0.00      0.00        57\n",
      "          32       0.00      0.00      0.00       100\n",
      "          33       0.00      0.00      0.00        10\n",
      "          34       0.00      0.00      0.00         3\n",
      "          35       0.87      0.99      0.93     10873\n",
      "          36       0.00      0.00      0.00        12\n",
      "\n",
      "    accuracy                           0.87     13165\n",
      "   macro avg       0.11      0.10      0.11     13165\n",
      "weighted avg       0.78      0.87      0.82     13165\n",
      "\n"
     ]
    },
    {
     "name": "stderr",
     "output_type": "stream",
     "text": [
      "C:\\Users\\sulej\\anaconda3\\lib\\site-packages\\sklearn\\metrics\\_classification.py:1318: UndefinedMetricWarning: Precision and F-score are ill-defined and being set to 0.0 in labels with no predicted samples. Use `zero_division` parameter to control this behavior.\n",
      "  _warn_prf(average, modifier, msg_start, len(result))\n",
      "C:\\Users\\sulej\\anaconda3\\lib\\site-packages\\sklearn\\metrics\\_classification.py:1318: UndefinedMetricWarning: Precision and F-score are ill-defined and being set to 0.0 in labels with no predicted samples. Use `zero_division` parameter to control this behavior.\n",
      "  _warn_prf(average, modifier, msg_start, len(result))\n",
      "C:\\Users\\sulej\\anaconda3\\lib\\site-packages\\sklearn\\metrics\\_classification.py:1318: UndefinedMetricWarning: Precision and F-score are ill-defined and being set to 0.0 in labels with no predicted samples. Use `zero_division` parameter to control this behavior.\n",
      "  _warn_prf(average, modifier, msg_start, len(result))\n"
     ]
    },
    {
     "name": "stdout",
     "output_type": "stream",
     "text": [
      "Accuracy (Decision Tree): 0.9952145841245728\n",
      "              precision    recall  f1-score   support\n",
      "\n",
      "           0       0.98      0.98      0.98       135\n",
      "           1       0.64      0.82      0.72        11\n",
      "           3       0.91      0.97      0.94        65\n",
      "           4       1.00      1.00      1.00         1\n",
      "           5       0.92      1.00      0.96        11\n",
      "           6       1.00      1.00      1.00        22\n",
      "           7       0.94      0.89      0.92        19\n",
      "           8       1.00      1.00      1.00         2\n",
      "           9       0.97      0.89      0.93        35\n",
      "          10       1.00      1.00      1.00       364\n",
      "          11       1.00      1.00      1.00         1\n",
      "          12       1.00      1.00      1.00        39\n",
      "          13       0.99      0.98      0.99       322\n",
      "          14       0.97      0.99      0.98       401\n",
      "          15       1.00      1.00      1.00         2\n",
      "          16       1.00      1.00      1.00        10\n",
      "          17       1.00      1.00      1.00        24\n",
      "          18       1.00      0.89      0.94        28\n",
      "          19       1.00      1.00      1.00        44\n",
      "          20       0.00      0.00      0.00         0\n",
      "          21       1.00      1.00      1.00         5\n",
      "          22       1.00      1.00      1.00         1\n",
      "          23       1.00      1.00      1.00       340\n",
      "          24       0.96      1.00      0.98        72\n",
      "          25       1.00      1.00      1.00        12\n",
      "          26       0.96      1.00      0.98        52\n",
      "          29       1.00      1.00      1.00        17\n",
      "          30       0.99      1.00      0.99        75\n",
      "          31       0.98      0.98      0.98        57\n",
      "          32       1.00      0.99      0.99       100\n",
      "          33       1.00      1.00      1.00        10\n",
      "          34       1.00      1.00      1.00         3\n",
      "          35       1.00      1.00      1.00     10873\n",
      "          36       1.00      1.00      1.00        12\n",
      "\n",
      "    accuracy                           1.00     13165\n",
      "   macro avg       0.95      0.95      0.95     13165\n",
      "weighted avg       1.00      1.00      1.00     13165\n",
      "\n"
     ]
    },
    {
     "name": "stderr",
     "output_type": "stream",
     "text": [
      "C:\\Users\\sulej\\anaconda3\\lib\\site-packages\\sklearn\\metrics\\_classification.py:1318: UndefinedMetricWarning: Recall and F-score are ill-defined and being set to 0.0 in labels with no true samples. Use `zero_division` parameter to control this behavior.\n",
      "  _warn_prf(average, modifier, msg_start, len(result))\n",
      "C:\\Users\\sulej\\anaconda3\\lib\\site-packages\\sklearn\\metrics\\_classification.py:1318: UndefinedMetricWarning: Recall and F-score are ill-defined and being set to 0.0 in labels with no true samples. Use `zero_division` parameter to control this behavior.\n",
      "  _warn_prf(average, modifier, msg_start, len(result))\n",
      "C:\\Users\\sulej\\anaconda3\\lib\\site-packages\\sklearn\\metrics\\_classification.py:1318: UndefinedMetricWarning: Recall and F-score are ill-defined and being set to 0.0 in labels with no true samples. Use `zero_division` parameter to control this behavior.\n",
      "  _warn_prf(average, modifier, msg_start, len(result))\n"
     ]
    }
   ],
   "source": [
    "X = data[['Quantity', 'TotalPrice', 'Recency', 'Frequency', 'Monetary']]\n",
    "y = data['Country']\n",
    "\n",
    "# creating training and testing sets\n",
    "X_train, X_test, y_train, y_test = train_test_split(X, y, test_size=0.2, random_state=42)\n",
    "\n",
    "# Lets create logistic regression\n",
    "# from sklearn.linear_model import LogisticRegression\n",
    "# from sklearn.metrics import accuracy_score, classification_report\n",
    "\n",
    "log_reg = LogisticRegression(max_iter=1000)\n",
    "log_reg.fit(X_train, y_train)\n",
    "\n",
    "# Predictions\n",
    "y_pred = log_reg.predict(X_test)\n",
    "\n",
    "# Evaluate model\n",
    "print(\"Accuracy:\", accuracy_score(y_test, y_pred))\n",
    "print(classification_report(y_test, y_pred))\n",
    "\n",
    "# Decision Tree Classifier\n",
    "# from sklearn.tree import DecisionTreeClassifier\n",
    "\n",
    "# Initialize model\n",
    "tree_clf = DecisionTreeClassifier(random_state=42)\n",
    "tree_clf.fit(X_train, y_train)\n",
    "\n",
    "# Predictions\n",
    "y_pred_tree = tree_clf.predict(X_test)\n",
    "\n",
    "# Evaluate model\n",
    "print(\"Accuracy (Decision Tree):\", accuracy_score(y_test, y_pred_tree))\n",
    "print(classification_report(y_test, y_pred_tree))\n"
   ]
  },
  {
   "cell_type": "code",
   "execution_count": 11,
   "id": "1f4cb67c",
   "metadata": {},
   "outputs": [
    {
     "name": "stdout",
     "output_type": "stream",
     "text": [
      "Accuracy (Random Forest): 0.9923281428028864\n",
      "              precision    recall  f1-score   support\n",
      "\n",
      "           0       0.99      0.96      0.98       135\n",
      "           1       1.00      0.45      0.62        11\n",
      "           3       0.95      0.94      0.95        65\n",
      "           4       1.00      1.00      1.00         1\n",
      "           5       1.00      0.91      0.95        11\n",
      "           6       1.00      0.91      0.95        22\n",
      "           7       1.00      0.84      0.91        19\n",
      "           8       1.00      0.50      0.67         2\n",
      "           9       0.91      0.89      0.90        35\n",
      "          10       1.00      1.00      1.00       364\n",
      "          11       1.00      1.00      1.00         1\n",
      "          12       1.00      0.90      0.95        39\n",
      "          13       1.00      0.96      0.98       322\n",
      "          14       0.99      0.93      0.96       401\n",
      "          15       1.00      1.00      1.00         2\n",
      "          16       1.00      1.00      1.00        10\n",
      "          17       1.00      1.00      1.00        24\n",
      "          18       1.00      0.82      0.90        28\n",
      "          19       1.00      1.00      1.00        44\n",
      "          21       1.00      1.00      1.00         5\n",
      "          22       0.00      0.00      0.00         1\n",
      "          23       1.00      0.99      0.99       340\n",
      "          24       1.00      1.00      1.00        72\n",
      "          25       1.00      1.00      1.00        12\n",
      "          26       0.96      0.96      0.96        52\n",
      "          29       1.00      1.00      1.00        17\n",
      "          30       1.00      0.93      0.97        75\n",
      "          31       0.98      0.95      0.96        57\n",
      "          32       1.00      0.98      0.99       100\n",
      "          33       1.00      1.00      1.00        10\n",
      "          34       1.00      1.00      1.00         3\n",
      "          35       0.99      1.00      1.00     10873\n",
      "          36       1.00      0.92      0.96        12\n",
      "\n",
      "    accuracy                           0.99     13165\n",
      "   macro avg       0.96      0.90      0.93     13165\n",
      "weighted avg       0.99      0.99      0.99     13165\n",
      "\n"
     ]
    },
    {
     "name": "stderr",
     "output_type": "stream",
     "text": [
      "C:\\Users\\sulej\\anaconda3\\lib\\site-packages\\sklearn\\metrics\\_classification.py:1318: UndefinedMetricWarning: Precision and F-score are ill-defined and being set to 0.0 in labels with no predicted samples. Use `zero_division` parameter to control this behavior.\n",
      "  _warn_prf(average, modifier, msg_start, len(result))\n",
      "C:\\Users\\sulej\\anaconda3\\lib\\site-packages\\sklearn\\metrics\\_classification.py:1318: UndefinedMetricWarning: Precision and F-score are ill-defined and being set to 0.0 in labels with no predicted samples. Use `zero_division` parameter to control this behavior.\n",
      "  _warn_prf(average, modifier, msg_start, len(result))\n",
      "C:\\Users\\sulej\\anaconda3\\lib\\site-packages\\sklearn\\metrics\\_classification.py:1318: UndefinedMetricWarning: Precision and F-score are ill-defined and being set to 0.0 in labels with no predicted samples. Use `zero_division` parameter to control this behavior.\n",
      "  _warn_prf(average, modifier, msg_start, len(result))\n"
     ]
    }
   ],
   "source": [
    "# Random Forest Classifier\n",
    "from sklearn.ensemble import RandomForestClassifier\n",
    "\n",
    "# Initialize model\n",
    "rf_clf = RandomForestClassifier(n_estimators=100, random_state=42)\n",
    "rf_clf.fit(X_train, y_train)\n",
    "\n",
    "# Predictions\n",
    "y_pred_rf = rf_clf.predict(X_test)\n",
    "\n",
    "# Evaluate model\n",
    "print(\"Accuracy (Random Forest):\", accuracy_score(y_test, y_pred_rf))\n",
    "print(classification_report(y_test, y_pred_rf))"
   ]
  },
  {
   "cell_type": "code",
   "execution_count": null,
   "id": "d99f29b4",
   "metadata": {},
   "outputs": [],
   "source": [
    "# Support Vector Machine (SVM)\n",
    "from sklearn.svm import SVC\n",
    "\n",
    "# Initialize model\n",
    "svm_clf = SVC(kernel='linear', random_state=42)\n",
    "svm_clf.fit(X_train, y_train)\n",
    "\n",
    "# Predictions\n",
    "y_pred_svm = svm_clf.predict(X_test)\n",
    "\n",
    "# Evaluate model\n",
    "print(\"Accuracy (SVM):\", accuracy_score(y_test, y_pred_svm))\n",
    "print(classification_report(y_test, y_pred_svm))"
   ]
  },
  {
   "cell_type": "code",
   "execution_count": null,
   "id": "0096f6b1",
   "metadata": {},
   "outputs": [],
   "source": [
    "# Neural Network\n",
    "from sklearn.neural_network import MLPClassifier\n",
    "\n",
    "# Initialize model\n",
    "nn_clf = MLPClassifier(hidden_layer_sizes=(100,), max_iter=300, random_state=42)\n",
    "nn_clf.fit(X_train, y_train)\n",
    "\n",
    "# Predictions\n",
    "y_pred_nn = nn_clf.predict(X_test)\n",
    "\n",
    "# Evaluate model\n",
    "print(\"Accuracy (Neural Network):\", accuracy_score(y_test, y_pred_nn))\n",
    "print(classification_report(y_test, y_pred_nn))"
   ]
  },
  {
   "cell_type": "code",
   "execution_count": null,
   "id": "2a5f9a31",
   "metadata": {},
   "outputs": [],
   "source": [
    "# accuracy, precision, recall for each model and compare\n",
    "from sklearn.metrics import precision_score, recall_score\n",
    "\n",
    "models = {\n",
    "    'Logistic Regression': log_reg,\n",
    "    'Decision Tree': tree_clf,\n",
    "    'Random Forest': rf_clf,\n",
    "    'SVM': svm_clf,\n",
    "    'Neural Network': nn_clf\n",
    "}\n",
    "\n",
    "for model_name, model in models.items():\n",
    "    y_pred = model.predict(X_test)\n",
    "    print(f\"{model_name}:\")\n",
    "    print(f\"Accuracy: {accuracy_score(y_test, y_pred)}\")\n",
    "    print(f\"Precision: {precision_score(y_test, y_pred, average='weighted')}\")\n",
    "    print(f\"Recall: {recall_score(y_test, y_pred, average='weighted')}\")\n",
    "    print(\"\\n\")\n"
   ]
  },
  {
   "cell_type": "code",
   "execution_count": null,
   "id": "e35012e8",
   "metadata": {},
   "outputs": [],
   "source": []
  },
  {
   "cell_type": "code",
   "execution_count": null,
   "id": "24f1ef19",
   "metadata": {},
   "outputs": [],
   "source": []
  }
 ],
 "metadata": {
  "kernelspec": {
   "display_name": "Python 3 (ipykernel)",
   "language": "python",
   "name": "python3"
  },
  "language_info": {
   "codemirror_mode": {
    "name": "ipython",
    "version": 3
   },
   "file_extension": ".py",
   "mimetype": "text/x-python",
   "name": "python",
   "nbconvert_exporter": "python",
   "pygments_lexer": "ipython3",
   "version": "3.9.12"
  }
 },
 "nbformat": 4,
 "nbformat_minor": 5
}
