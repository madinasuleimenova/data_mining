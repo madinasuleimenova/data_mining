{
 "cells": [
  {
   "cell_type": "code",
   "execution_count": 39,
   "id": "b4199c60",
   "metadata": {},
   "outputs": [],
   "source": [
    "import pandas as pd\n",
    "import numpy as np\n",
    "import pickle \n",
    "import sklearn\n",
    "import matplotlib.pyplot as plt"
   ]
  },
  {
   "cell_type": "code",
   "execution_count": 40,
   "id": "d9eaac73",
   "metadata": {},
   "outputs": [],
   "source": [
    "# Source of dataset: https://www.kaggle.com/datasets/lainguyn123/student-performance-factors\n",
    "pdDf= pd.read_csv('C:\\\\Users\\\\sulej\\\\OneDrive\\\\Рабочий стол\\\\7 semester\\\\Data Mining\\\\StudentPerformanceFactors.csv')"
   ]
  },
  {
   "cell_type": "code",
   "execution_count": 44,
   "id": "bec24e74",
   "metadata": {},
   "outputs": [
    {
     "name": "stdout",
     "output_type": "stream",
     "text": [
      "      Hours_Studied  Attendance Parental_Involvement Access_to_Resources  \\\n",
      "0                23          84                  Low                High   \n",
      "1                19          64                  Low              Medium   \n",
      "2                24          98               Medium              Medium   \n",
      "3                29          89                  Low              Medium   \n",
      "4                19          92               Medium              Medium   \n",
      "...             ...         ...                  ...                 ...   \n",
      "6602             25          69                 High              Medium   \n",
      "6603             23          76                 High              Medium   \n",
      "6604             20          90               Medium                 Low   \n",
      "6605             10          86                 High                High   \n",
      "6606             15          67               Medium                 Low   \n",
      "\n",
      "     Extracurricular_Activities  Sleep_Hours  Previous_Scores  \\\n",
      "0                            No            7               73   \n",
      "1                            No            8               59   \n",
      "2                           Yes            7               91   \n",
      "3                           Yes            8               98   \n",
      "4                           Yes            6               65   \n",
      "...                         ...          ...              ...   \n",
      "6602                         No            7               76   \n",
      "6603                         No            8               81   \n",
      "6604                        Yes            6               65   \n",
      "6605                        Yes            6               91   \n",
      "6606                        Yes            9               94   \n",
      "\n",
      "     Motivation_Level Internet_Access  Tutoring_Sessions Family_Income  \\\n",
      "0                 Low             Yes                  0           Low   \n",
      "1                 Low             Yes                  2        Medium   \n",
      "2              Medium             Yes                  2        Medium   \n",
      "3              Medium             Yes                  1        Medium   \n",
      "4              Medium             Yes                  3        Medium   \n",
      "...               ...             ...                ...           ...   \n",
      "6602           Medium             Yes                  1          High   \n",
      "6603           Medium             Yes                  3           Low   \n",
      "6604              Low             Yes                  3           Low   \n",
      "6605             High             Yes                  2           Low   \n",
      "6606           Medium             Yes                  0        Medium   \n",
      "\n",
      "     Teacher_Quality School_Type Peer_Influence  Physical_Activity  \\\n",
      "0             Medium      Public       Positive                  3   \n",
      "1             Medium      Public       Negative                  4   \n",
      "2             Medium      Public        Neutral                  4   \n",
      "3             Medium      Public       Negative                  4   \n",
      "4               High      Public        Neutral                  4   \n",
      "...              ...         ...            ...                ...   \n",
      "6602          Medium      Public       Positive                  2   \n",
      "6603            High      Public       Positive                  2   \n",
      "6604          Medium      Public       Negative                  2   \n",
      "6605          Medium     Private       Positive                  3   \n",
      "6606          Medium      Public       Positive                  4   \n",
      "\n",
      "     Learning_Disabilities Parental_Education_Level Distance_from_Home  \\\n",
      "0                       No              High School               Near   \n",
      "1                       No                  College           Moderate   \n",
      "2                       No             Postgraduate               Near   \n",
      "3                       No              High School           Moderate   \n",
      "4                       No                  College               Near   \n",
      "...                    ...                      ...                ...   \n",
      "6602                    No              High School               Near   \n",
      "6603                    No              High School               Near   \n",
      "6604                    No             Postgraduate               Near   \n",
      "6605                    No              High School                Far   \n",
      "6606                    No             Postgraduate               Near   \n",
      "\n",
      "      Gender  Exam_Score  \n",
      "0       Male          67  \n",
      "1     Female          61  \n",
      "2       Male          74  \n",
      "3       Male          71  \n",
      "4     Female          70  \n",
      "...      ...         ...  \n",
      "6602  Female          68  \n",
      "6603  Female          69  \n",
      "6604  Female          68  \n",
      "6605  Female          68  \n",
      "6606    Male          64  \n",
      "\n",
      "[6607 rows x 20 columns]\n",
      "<class 'pandas.core.frame.DataFrame'>\n",
      "RangeIndex: 6607 entries, 0 to 6606\n",
      "Data columns (total 20 columns):\n",
      " #   Column                      Non-Null Count  Dtype \n",
      "---  ------                      --------------  ----- \n",
      " 0   Hours_Studied               6607 non-null   int64 \n",
      " 1   Attendance                  6607 non-null   int64 \n",
      " 2   Parental_Involvement        6607 non-null   object\n",
      " 3   Access_to_Resources         6607 non-null   object\n",
      " 4   Extracurricular_Activities  6607 non-null   object\n",
      " 5   Sleep_Hours                 6607 non-null   int64 \n",
      " 6   Previous_Scores             6607 non-null   int64 \n",
      " 7   Motivation_Level            6607 non-null   object\n",
      " 8   Internet_Access             6607 non-null   object\n",
      " 9   Tutoring_Sessions           6607 non-null   int64 \n",
      " 10  Family_Income               6607 non-null   object\n",
      " 11  Teacher_Quality             6529 non-null   object\n",
      " 12  School_Type                 6607 non-null   object\n",
      " 13  Peer_Influence              6607 non-null   object\n",
      " 14  Physical_Activity           6607 non-null   int64 \n",
      " 15  Learning_Disabilities       6607 non-null   object\n",
      " 16  Parental_Education_Level    6517 non-null   object\n",
      " 17  Distance_from_Home          6540 non-null   object\n",
      " 18  Gender                      6607 non-null   object\n",
      " 19  Exam_Score                  6607 non-null   int64 \n",
      "dtypes: int64(7), object(13)\n",
      "memory usage: 1.0+ MB\n",
      "None\n"
     ]
    }
   ],
   "source": [
    "print(pdDf)\n",
    "print(pdDf.info())"
   ]
  },
  {
   "cell_type": "code",
   "execution_count": 45,
   "id": "f2750e0f",
   "metadata": {},
   "outputs": [],
   "source": [
    "# As we saw in the Lecture #2 we use Label Encoding for the columns with binary data\n",
    "# When there are only 2 outcomes : Yes or No"
   ]
  },
  {
   "cell_type": "code",
   "execution_count": 46,
   "id": "5248a5c5",
   "metadata": {},
   "outputs": [],
   "source": [
    "#MinMaxScaler formula: Transformed value = (Value - Min) / (Max - Min)"
   ]
  },
  {
   "cell_type": "code",
   "execution_count": 47,
   "id": "48cc655f",
   "metadata": {},
   "outputs": [
    {
     "name": "stdout",
     "output_type": "stream",
     "text": [
      "Hours_Studied\n",
      "Attendance\n",
      "Parental_Involvement\n",
      "Access_to_Resources\n",
      "Extracurricular_Activities\n",
      "Sleep_Hours\n",
      "Previous_Scores\n",
      "Motivation_Level\n",
      "Internet_Access\n",
      "Tutoring_Sessions\n",
      "Family_Income\n",
      "Teacher_Quality\n",
      "School_Type\n",
      "Peer_Influence\n",
      "Physical_Activity\n",
      "Learning_Disabilities\n",
      "Parental_Education_Level\n",
      "Distance_from_Home\n",
      "Gender\n",
      "Exam_Score\n"
     ]
    }
   ],
   "source": [
    "for col in pdDf.columns:\n",
    "    print (col)"
   ]
  },
  {
   "cell_type": "code",
   "execution_count": 48,
   "id": "fc4f9519",
   "metadata": {},
   "outputs": [],
   "source": [
    "from sklearn.preprocessing import MinMaxScaler"
   ]
  },
  {
   "cell_type": "code",
   "execution_count": 49,
   "id": "0a9b6029",
   "metadata": {},
   "outputs": [],
   "source": [
    "scaler = MinMaxScaler()"
   ]
  },
  {
   "cell_type": "code",
   "execution_count": 50,
   "id": "1c026393",
   "metadata": {},
   "outputs": [],
   "source": [
    "pdDf[['Hours_Studied','Attendance']] = scaler.fit_transform(pdDf[['Hours_Studied', 'Attendance']])"
   ]
  },
  {
   "cell_type": "code",
   "execution_count": 51,
   "id": "99858d4a",
   "metadata": {},
   "outputs": [
    {
     "name": "stdout",
     "output_type": "stream",
     "text": [
      "      Hours_Studied  Attendance Parental_Involvement Access_to_Resources  \\\n",
      "0          0.511628       0.600                  Low                High   \n",
      "1          0.418605       0.100                  Low              Medium   \n",
      "2          0.534884       0.950               Medium              Medium   \n",
      "3          0.651163       0.725                  Low              Medium   \n",
      "4          0.418605       0.800               Medium              Medium   \n",
      "...             ...         ...                  ...                 ...   \n",
      "6602       0.558140       0.225                 High              Medium   \n",
      "6603       0.511628       0.400                 High              Medium   \n",
      "6604       0.441860       0.750               Medium                 Low   \n",
      "6605       0.209302       0.650                 High                High   \n",
      "6606       0.325581       0.175               Medium                 Low   \n",
      "\n",
      "     Extracurricular_Activities  Sleep_Hours  Previous_Scores  \\\n",
      "0                            No            7               73   \n",
      "1                            No            8               59   \n",
      "2                           Yes            7               91   \n",
      "3                           Yes            8               98   \n",
      "4                           Yes            6               65   \n",
      "...                         ...          ...              ...   \n",
      "6602                         No            7               76   \n",
      "6603                         No            8               81   \n",
      "6604                        Yes            6               65   \n",
      "6605                        Yes            6               91   \n",
      "6606                        Yes            9               94   \n",
      "\n",
      "     Motivation_Level Internet_Access  Tutoring_Sessions Family_Income  \\\n",
      "0                 Low             Yes                  0           Low   \n",
      "1                 Low             Yes                  2        Medium   \n",
      "2              Medium             Yes                  2        Medium   \n",
      "3              Medium             Yes                  1        Medium   \n",
      "4              Medium             Yes                  3        Medium   \n",
      "...               ...             ...                ...           ...   \n",
      "6602           Medium             Yes                  1          High   \n",
      "6603           Medium             Yes                  3           Low   \n",
      "6604              Low             Yes                  3           Low   \n",
      "6605             High             Yes                  2           Low   \n",
      "6606           Medium             Yes                  0        Medium   \n",
      "\n",
      "     Teacher_Quality School_Type Peer_Influence  Physical_Activity  \\\n",
      "0             Medium      Public       Positive                  3   \n",
      "1             Medium      Public       Negative                  4   \n",
      "2             Medium      Public        Neutral                  4   \n",
      "3             Medium      Public       Negative                  4   \n",
      "4               High      Public        Neutral                  4   \n",
      "...              ...         ...            ...                ...   \n",
      "6602          Medium      Public       Positive                  2   \n",
      "6603            High      Public       Positive                  2   \n",
      "6604          Medium      Public       Negative                  2   \n",
      "6605          Medium     Private       Positive                  3   \n",
      "6606          Medium      Public       Positive                  4   \n",
      "\n",
      "     Learning_Disabilities Parental_Education_Level Distance_from_Home  \\\n",
      "0                       No              High School               Near   \n",
      "1                       No                  College           Moderate   \n",
      "2                       No             Postgraduate               Near   \n",
      "3                       No              High School           Moderate   \n",
      "4                       No                  College               Near   \n",
      "...                    ...                      ...                ...   \n",
      "6602                    No              High School               Near   \n",
      "6603                    No              High School               Near   \n",
      "6604                    No             Postgraduate               Near   \n",
      "6605                    No              High School                Far   \n",
      "6606                    No             Postgraduate               Near   \n",
      "\n",
      "      Gender  Exam_Score  \n",
      "0       Male          67  \n",
      "1     Female          61  \n",
      "2       Male          74  \n",
      "3       Male          71  \n",
      "4     Female          70  \n",
      "...      ...         ...  \n",
      "6602  Female          68  \n",
      "6603  Female          69  \n",
      "6604  Female          68  \n",
      "6605  Female          68  \n",
      "6606    Male          64  \n",
      "\n",
      "[6607 rows x 20 columns]\n"
     ]
    }
   ],
   "source": [
    "print(pdDf)"
   ]
  },
  {
   "cell_type": "code",
   "execution_count": 52,
   "id": "2e702704",
   "metadata": {},
   "outputs": [],
   "source": [
    "# Encodecategorical variables using one-hot encoding with pd.get_dummies()\n",
    "# or sklearn.preprocessing.OneHotEncoder."
   ]
  },
  {
   "cell_type": "code",
   "execution_count": 53,
   "id": "cb9c5a7e",
   "metadata": {},
   "outputs": [],
   "source": [
    "# I want firstly try pd.get_dummies()"
   ]
  },
  {
   "cell_type": "code",
   "execution_count": 54,
   "id": "08fbe931",
   "metadata": {},
   "outputs": [],
   "source": [
    "pdDf_encoded = pd.get_dummies(pdDf, columns = ['Gender'], drop_first=True)"
   ]
  },
  {
   "cell_type": "code",
   "execution_count": 55,
   "id": "ca827f01",
   "metadata": {},
   "outputs": [
    {
     "name": "stdout",
     "output_type": "stream",
     "text": [
      "      Hours_Studied  Attendance Parental_Involvement Access_to_Resources  \\\n",
      "0          0.511628       0.600                  Low                High   \n",
      "1          0.418605       0.100                  Low              Medium   \n",
      "2          0.534884       0.950               Medium              Medium   \n",
      "3          0.651163       0.725                  Low              Medium   \n",
      "4          0.418605       0.800               Medium              Medium   \n",
      "...             ...         ...                  ...                 ...   \n",
      "6602       0.558140       0.225                 High              Medium   \n",
      "6603       0.511628       0.400                 High              Medium   \n",
      "6604       0.441860       0.750               Medium                 Low   \n",
      "6605       0.209302       0.650                 High                High   \n",
      "6606       0.325581       0.175               Medium                 Low   \n",
      "\n",
      "     Extracurricular_Activities  Sleep_Hours  Previous_Scores  \\\n",
      "0                            No            7               73   \n",
      "1                            No            8               59   \n",
      "2                           Yes            7               91   \n",
      "3                           Yes            8               98   \n",
      "4                           Yes            6               65   \n",
      "...                         ...          ...              ...   \n",
      "6602                         No            7               76   \n",
      "6603                         No            8               81   \n",
      "6604                        Yes            6               65   \n",
      "6605                        Yes            6               91   \n",
      "6606                        Yes            9               94   \n",
      "\n",
      "     Motivation_Level Internet_Access  Tutoring_Sessions Family_Income  \\\n",
      "0                 Low             Yes                  0           Low   \n",
      "1                 Low             Yes                  2        Medium   \n",
      "2              Medium             Yes                  2        Medium   \n",
      "3              Medium             Yes                  1        Medium   \n",
      "4              Medium             Yes                  3        Medium   \n",
      "...               ...             ...                ...           ...   \n",
      "6602           Medium             Yes                  1          High   \n",
      "6603           Medium             Yes                  3           Low   \n",
      "6604              Low             Yes                  3           Low   \n",
      "6605             High             Yes                  2           Low   \n",
      "6606           Medium             Yes                  0        Medium   \n",
      "\n",
      "     Teacher_Quality School_Type Peer_Influence  Physical_Activity  \\\n",
      "0             Medium      Public       Positive                  3   \n",
      "1             Medium      Public       Negative                  4   \n",
      "2             Medium      Public        Neutral                  4   \n",
      "3             Medium      Public       Negative                  4   \n",
      "4               High      Public        Neutral                  4   \n",
      "...              ...         ...            ...                ...   \n",
      "6602          Medium      Public       Positive                  2   \n",
      "6603            High      Public       Positive                  2   \n",
      "6604          Medium      Public       Negative                  2   \n",
      "6605          Medium     Private       Positive                  3   \n",
      "6606          Medium      Public       Positive                  4   \n",
      "\n",
      "     Learning_Disabilities Parental_Education_Level Distance_from_Home  \\\n",
      "0                       No              High School               Near   \n",
      "1                       No                  College           Moderate   \n",
      "2                       No             Postgraduate               Near   \n",
      "3                       No              High School           Moderate   \n",
      "4                       No                  College               Near   \n",
      "...                    ...                      ...                ...   \n",
      "6602                    No              High School               Near   \n",
      "6603                    No              High School               Near   \n",
      "6604                    No             Postgraduate               Near   \n",
      "6605                    No              High School                Far   \n",
      "6606                    No             Postgraduate               Near   \n",
      "\n",
      "      Exam_Score  Gender_Male  \n",
      "0             67            1  \n",
      "1             61            0  \n",
      "2             74            1  \n",
      "3             71            1  \n",
      "4             70            0  \n",
      "...          ...          ...  \n",
      "6602          68            0  \n",
      "6603          69            0  \n",
      "6604          68            0  \n",
      "6605          68            0  \n",
      "6606          64            1  \n",
      "\n",
      "[6607 rows x 20 columns]\n"
     ]
    }
   ],
   "source": [
    "print(pdDf_encoded)"
   ]
  },
  {
   "cell_type": "code",
   "execution_count": 56,
   "id": "0dfa40c7",
   "metadata": {},
   "outputs": [
    {
     "name": "stdout",
     "output_type": "stream",
     "text": [
      "0       1\n",
      "1       0\n",
      "2       1\n",
      "3       1\n",
      "4       0\n",
      "       ..\n",
      "6602    0\n",
      "6603    0\n",
      "6604    0\n",
      "6605    0\n",
      "6606    1\n",
      "Name: Gender_Male, Length: 6607, dtype: uint8\n"
     ]
    }
   ],
   "source": [
    "print(pdDf_encoded['Gender_Male'])"
   ]
  },
  {
   "cell_type": "code",
   "execution_count": 57,
   "id": "5ce2002a",
   "metadata": {},
   "outputs": [],
   "source": [
    "# pd.get_dummies() is simpler to use but doesn't offer as much customization.\n",
    "# OneHotEncoder is more powerful and flexible, making it better suited for integration with machine learning pipelines."
   ]
  },
  {
   "cell_type": "code",
   "execution_count": 58,
   "id": "d8acd43e",
   "metadata": {},
   "outputs": [],
   "source": [
    "# Now I want to try "
   ]
  },
  {
   "cell_type": "code",
   "execution_count": 59,
   "id": "3e702807",
   "metadata": {},
   "outputs": [],
   "source": [
    "from sklearn.preprocessing import OneHotEncoder"
   ]
  },
  {
   "cell_type": "code",
   "execution_count": 60,
   "id": "56bef7ce",
   "metadata": {},
   "outputs": [],
   "source": [
    "encoder = OneHotEncoder(sparse=False)"
   ]
  },
  {
   "cell_type": "code",
   "execution_count": 61,
   "id": "f72834b2",
   "metadata": {},
   "outputs": [],
   "source": [
    "encoded_data = encoder.fit_transform(pdDf[['School_Type']])"
   ]
  },
  {
   "cell_type": "code",
   "execution_count": 62,
   "id": "e4aa3b59",
   "metadata": {},
   "outputs": [],
   "source": [
    "pdDf_encoded2 = pd.DataFrame(encoded_data, columns=encoder.get_feature_names_out(['School_Type']))"
   ]
  },
  {
   "cell_type": "code",
   "execution_count": 63,
   "id": "15746d2f",
   "metadata": {},
   "outputs": [
    {
     "name": "stdout",
     "output_type": "stream",
     "text": [
      "      School_Type_Private  School_Type_Public\n",
      "0                     0.0                 1.0\n",
      "1                     0.0                 1.0\n",
      "2                     0.0                 1.0\n",
      "3                     0.0                 1.0\n",
      "4                     0.0                 1.0\n",
      "...                   ...                 ...\n",
      "6602                  0.0                 1.0\n",
      "6603                  0.0                 1.0\n",
      "6604                  0.0                 1.0\n",
      "6605                  1.0                 0.0\n",
      "6606                  0.0                 1.0\n",
      "\n",
      "[6607 rows x 2 columns]\n"
     ]
    }
   ],
   "source": [
    "print(pdDf_encoded2)"
   ]
  },
  {
   "cell_type": "code",
   "execution_count": 64,
   "id": "01b55423",
   "metadata": {},
   "outputs": [],
   "source": [
    "encoder = OneHotEncoder(sparse=False, drop='first')"
   ]
  },
  {
   "cell_type": "code",
   "execution_count": 65,
   "id": "b0469468",
   "metadata": {},
   "outputs": [],
   "source": [
    "encoded_data = encoder.fit_transform(pdDf[['School_Type']])"
   ]
  },
  {
   "cell_type": "code",
   "execution_count": 66,
   "id": "719e5333",
   "metadata": {},
   "outputs": [],
   "source": [
    "pdDf_encoded2 = pd.DataFrame(encoded_data, columns=encoder.get_feature_names_out(['School_Type']))"
   ]
  },
  {
   "cell_type": "code",
   "execution_count": 67,
   "id": "84bc8ba8",
   "metadata": {},
   "outputs": [
    {
     "name": "stdout",
     "output_type": "stream",
     "text": [
      "      School_Type_Public\n",
      "0                    1.0\n",
      "1                    1.0\n",
      "2                    1.0\n",
      "3                    1.0\n",
      "4                    1.0\n",
      "...                  ...\n",
      "6602                 1.0\n",
      "6603                 1.0\n",
      "6604                 1.0\n",
      "6605                 0.0\n",
      "6606                 1.0\n",
      "\n",
      "[6607 rows x 1 columns]\n"
     ]
    }
   ],
   "source": [
    "print(pdDf_encoded2)"
   ]
  },
  {
   "cell_type": "code",
   "execution_count": 68,
   "id": "9c2879b2",
   "metadata": {},
   "outputs": [],
   "source": [
    "# Use pd.cut()to bin continuous variables into discrete intervals."
   ]
  },
  {
   "cell_type": "code",
   "execution_count": 69,
   "id": "a113cd9a",
   "metadata": {},
   "outputs": [],
   "source": [
    "# We use pd.cut() when we have continuous data and we need to categorize it by defining some ranges or intervals "
   ]
  },
  {
   "cell_type": "code",
   "execution_count": 70,
   "id": "b994918f",
   "metadata": {},
   "outputs": [],
   "source": [
    "bins = [0,50,70,80,90,100]\n",
    "labels = ['Fail', 'Pass', 'Not Bad', 'Good', 'Excellent']"
   ]
  },
  {
   "cell_type": "code",
   "execution_count": 71,
   "id": "70e6f424",
   "metadata": {},
   "outputs": [],
   "source": [
    "pdDf['Previous_Scores'] = pd.cut(pdDf['Previous_Scores'], bins=bins, labels=labels)"
   ]
  },
  {
   "cell_type": "code",
   "execution_count": 72,
   "id": "69d72eb7",
   "metadata": {},
   "outputs": [
    {
     "name": "stdout",
     "output_type": "stream",
     "text": [
      "      Hours_Studied  Attendance Parental_Involvement Access_to_Resources  \\\n",
      "0          0.511628       0.600                  Low                High   \n",
      "1          0.418605       0.100                  Low              Medium   \n",
      "2          0.534884       0.950               Medium              Medium   \n",
      "3          0.651163       0.725                  Low              Medium   \n",
      "4          0.418605       0.800               Medium              Medium   \n",
      "...             ...         ...                  ...                 ...   \n",
      "6602       0.558140       0.225                 High              Medium   \n",
      "6603       0.511628       0.400                 High              Medium   \n",
      "6604       0.441860       0.750               Medium                 Low   \n",
      "6605       0.209302       0.650                 High                High   \n",
      "6606       0.325581       0.175               Medium                 Low   \n",
      "\n",
      "     Extracurricular_Activities  Sleep_Hours Previous_Scores Motivation_Level  \\\n",
      "0                            No            7         Not Bad              Low   \n",
      "1                            No            8            Pass              Low   \n",
      "2                           Yes            7       Excellent           Medium   \n",
      "3                           Yes            8       Excellent           Medium   \n",
      "4                           Yes            6            Pass           Medium   \n",
      "...                         ...          ...             ...              ...   \n",
      "6602                         No            7         Not Bad           Medium   \n",
      "6603                         No            8            Good           Medium   \n",
      "6604                        Yes            6            Pass              Low   \n",
      "6605                        Yes            6       Excellent             High   \n",
      "6606                        Yes            9       Excellent           Medium   \n",
      "\n",
      "     Internet_Access  Tutoring_Sessions Family_Income Teacher_Quality  \\\n",
      "0                Yes                  0           Low          Medium   \n",
      "1                Yes                  2        Medium          Medium   \n",
      "2                Yes                  2        Medium          Medium   \n",
      "3                Yes                  1        Medium          Medium   \n",
      "4                Yes                  3        Medium            High   \n",
      "...              ...                ...           ...             ...   \n",
      "6602             Yes                  1          High          Medium   \n",
      "6603             Yes                  3           Low            High   \n",
      "6604             Yes                  3           Low          Medium   \n",
      "6605             Yes                  2           Low          Medium   \n",
      "6606             Yes                  0        Medium          Medium   \n",
      "\n",
      "     School_Type Peer_Influence  Physical_Activity Learning_Disabilities  \\\n",
      "0         Public       Positive                  3                    No   \n",
      "1         Public       Negative                  4                    No   \n",
      "2         Public        Neutral                  4                    No   \n",
      "3         Public       Negative                  4                    No   \n",
      "4         Public        Neutral                  4                    No   \n",
      "...          ...            ...                ...                   ...   \n",
      "6602      Public       Positive                  2                    No   \n",
      "6603      Public       Positive                  2                    No   \n",
      "6604      Public       Negative                  2                    No   \n",
      "6605     Private       Positive                  3                    No   \n",
      "6606      Public       Positive                  4                    No   \n",
      "\n",
      "     Parental_Education_Level Distance_from_Home  Gender  Exam_Score  \n",
      "0                 High School               Near    Male          67  \n",
      "1                     College           Moderate  Female          61  \n",
      "2                Postgraduate               Near    Male          74  \n",
      "3                 High School           Moderate    Male          71  \n",
      "4                     College               Near  Female          70  \n",
      "...                       ...                ...     ...         ...  \n",
      "6602              High School               Near  Female          68  \n",
      "6603              High School               Near  Female          69  \n",
      "6604             Postgraduate               Near  Female          68  \n",
      "6605              High School                Far  Female          68  \n",
      "6606             Postgraduate               Near    Male          64  \n",
      "\n",
      "[6607 rows x 20 columns]\n"
     ]
    }
   ],
   "source": [
    "print(pdDf)"
   ]
  }
 ],
 "metadata": {
  "kernelspec": {
   "display_name": "Python 3 (ipykernel)",
   "language": "python",
   "name": "python3"
  },
  "language_info": {
   "codemirror_mode": {
    "name": "ipython",
    "version": 3
   },
   "file_extension": ".py",
   "mimetype": "text/x-python",
   "name": "python",
   "nbconvert_exporter": "python",
   "pygments_lexer": "ipython3",
   "version": "3.9.12"
  }
 },
 "nbformat": 4,
 "nbformat_minor": 5
}
