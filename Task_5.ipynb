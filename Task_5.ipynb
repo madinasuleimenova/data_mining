{
 "cells": [
  {
   "cell_type": "code",
   "execution_count": 42,
   "id": "5242a998",
   "metadata": {},
   "outputs": [],
   "source": [
    "import pandas as pd"
   ]
  },
  {
   "cell_type": "code",
   "execution_count": 43,
   "id": "edd81a59",
   "metadata": {},
   "outputs": [],
   "source": [
    "pdDf = pd.read_csv('C:\\\\Users\\\\sulej\\\\OneDrive\\\\Рабочий стол\\\\7 semester\\\\Data Mining\\\\movies.csv')"
   ]
  },
  {
   "cell_type": "code",
   "execution_count": 44,
   "id": "1053fbbc",
   "metadata": {},
   "outputs": [
    {
     "name": "stdout",
     "output_type": "stream",
     "text": [
      "                                   MOVIES         YEAR  \\\n",
      "0                           Blood Red Sky       (2021)   \n",
      "1     Masters of the Universe: Revelation     (2021– )   \n",
      "2                        The Walking Dead  (2010–2022)   \n",
      "3                          Rick and Morty     (2013– )   \n",
      "4                         Army of Thieves       (2021)   \n",
      "...                                   ...          ...   \n",
      "9994                       The Imperfects     (2021– )   \n",
      "9995                               Arcane     (2021– )   \n",
      "9996                    Heart of Invictus     (2022– )   \n",
      "9997                       The Imperfects     (2021– )   \n",
      "9998                       The Imperfects     (2021– )   \n",
      "\n",
      "                                           GENRE  RATING  \\\n",
      "0         \\nAction, Horror, Thriller                 6.1   \n",
      "1     \\nAnimation, Action, Adventure                 5.0   \n",
      "2          \\nDrama, Horror, Thriller                 8.2   \n",
      "3     \\nAnimation, Adventure, Comedy                 9.2   \n",
      "4            \\nAction, Crime, Horror                 NaN   \n",
      "...                                          ...     ...   \n",
      "9994     \\nAdventure, Drama, Fantasy                 NaN   \n",
      "9995  \\nAnimation, Action, Adventure                 NaN   \n",
      "9996            \\nDocumentary, Sport                 NaN   \n",
      "9997     \\nAdventure, Drama, Fantasy                 NaN   \n",
      "9998     \\nAdventure, Drama, Fantasy                 NaN   \n",
      "\n",
      "                                               ONE-LINE  \\\n",
      "0     \\nA woman with a mysterious illness is forced ...   \n",
      "1     \\nThe war for Eternia begins again in what may...   \n",
      "2     \\nSheriff Deputy Rick Grimes wakes up from a c...   \n",
      "3     \\nAn animated series that follows the exploits...   \n",
      "4     \\nA prequel, set before the events of Army of ...   \n",
      "...                                                 ...   \n",
      "9994                                     \\nAdd a Plot\\n   \n",
      "9995                                     \\nAdd a Plot\\n   \n",
      "9996                                     \\nAdd a Plot\\n   \n",
      "9997                                     \\nAdd a Plot\\n   \n",
      "9998                                     \\nAdd a Plot\\n   \n",
      "\n",
      "                                                  STARS    VOTES  RunTime  \\\n",
      "0     \\n    Director:\\nPeter Thorwarth\\n| \\n    Star...   21,062    121.0   \n",
      "1     \\n            \\n    Stars:\\nChris Wood, \\nSara...   17,870     25.0   \n",
      "2     \\n            \\n    Stars:\\nAndrew Lincoln, \\n...  885,805     44.0   \n",
      "3     \\n            \\n    Stars:\\nJustin Roiland, \\n...  414,849     23.0   \n",
      "4     \\n    Director:\\nMatthias Schweighöfer\\n| \\n  ...      NaN      NaN   \n",
      "...                                                 ...      ...      ...   \n",
      "9994  \\n            \\n    Stars:\\nMorgan Taylor Camp...      NaN      NaN   \n",
      "9995                                                 \\n      NaN      NaN   \n",
      "9996  \\n    Director:\\nOrlando von Einsiedel\\n| \\n  ...      NaN      NaN   \n",
      "9997  \\n    Director:\\nJovanka Vuckovic\\n| \\n    Sta...      NaN      NaN   \n",
      "9998  \\n    Director:\\nJovanka Vuckovic\\n| \\n    Sta...      NaN      NaN   \n",
      "\n",
      "     Gross  \n",
      "0      NaN  \n",
      "1      NaN  \n",
      "2      NaN  \n",
      "3      NaN  \n",
      "4      NaN  \n",
      "...    ...  \n",
      "9994   NaN  \n",
      "9995   NaN  \n",
      "9996   NaN  \n",
      "9997   NaN  \n",
      "9998   NaN  \n",
      "\n",
      "[9999 rows x 9 columns]\n"
     ]
    }
   ],
   "source": [
    "print(pdDf)"
   ]
  },
  {
   "cell_type": "code",
   "execution_count": 45,
   "id": "fd1a4787",
   "metadata": {},
   "outputs": [
    {
     "name": "stdout",
     "output_type": "stream",
     "text": [
      "MOVIES\n",
      "YEAR\n",
      "GENRE\n",
      "RATING\n",
      "ONE-LINE\n",
      "STARS\n",
      "VOTES\n",
      "RunTime\n",
      "Gross\n"
     ]
    }
   ],
   "source": [
    "for col in pdDf.columns:\n",
    "    print(col)"
   ]
  },
  {
   "cell_type": "code",
   "execution_count": 46,
   "id": "d5f58a26",
   "metadata": {},
   "outputs": [
    {
     "name": "stdout",
     "output_type": "stream",
     "text": [
      "(0, 9)\n"
     ]
    }
   ],
   "source": [
    "import pandas as pd\n",
    "from scipy import stats\n",
    "\n",
    "# Drop rows with missing values in specified columns\n",
    "pdDf_clean = pdDf.dropna(subset=['RATING', 'VOTES', 'RunTime', 'Gross']).copy()\n",
    "\n",
    "# Ensure numerical columns are properly handled\n",
    "pdDf_clean[['RATING', 'VOTES', 'RunTime', 'Gross']] = pdDf_clean[['RATING', 'VOTES', 'RunTime', 'Gross']].apply(pd.to_numeric, errors='coerce')\n",
    "\n",
    "# Drop rows with NaN values after converting to numeric\n",
    "pdDf_clean = pdDf_clean.dropna(subset=['RATING', 'VOTES', 'RunTime', 'Gross'])\n",
    "\n",
    "# Calculate Z-scores for numerical columns\n",
    "z_scores = stats.zscore(pdDf_clean[['RATING', 'VOTES', 'RunTime', 'Gross']])\n",
    "\n",
    "# Apply Z-score threshold for outlier detection\n",
    "outliers = (abs(z_scores) > 3).any(axis=1)\n",
    "\n",
    "# Keep rows where there are no outliers\n",
    "pdDf_no_outliers = pdDf_clean.loc[~outliers]\n",
    "\n",
    "# Verify DataFrame size\n",
    "print(pdDf_no_outliers.shape)\n"
   ]
  },
  {
   "cell_type": "code",
   "execution_count": 47,
   "id": "58c2c280",
   "metadata": {},
   "outputs": [
    {
     "name": "stdout",
     "output_type": "stream",
     "text": [
      "(9568, 9)\n",
      "                                MOVIES         YEAR  \\\n",
      "0                        Blood Red Sky       (2021)   \n",
      "1  Masters of the Universe: Revelation     (2021– )   \n",
      "2                     The Walking Dead  (2010–2022)   \n",
      "3                       Rick and Morty     (2013– )   \n",
      "4                      Army of Thieves       (2021)   \n",
      "\n",
      "                                        GENRE  RATING  \\\n",
      "0      \\nAction, Horror, Thriller                 6.1   \n",
      "1  \\nAnimation, Action, Adventure                 5.0   \n",
      "2       \\nDrama, Horror, Thriller                 8.2   \n",
      "3  \\nAnimation, Adventure, Comedy                 9.2   \n",
      "4         \\nAction, Crime, Horror                 NaN   \n",
      "\n",
      "                                            ONE-LINE  \\\n",
      "0  \\nA woman with a mysterious illness is forced ...   \n",
      "1  \\nThe war for Eternia begins again in what may...   \n",
      "2  \\nSheriff Deputy Rick Grimes wakes up from a c...   \n",
      "3  \\nAn animated series that follows the exploits...   \n",
      "4  \\nA prequel, set before the events of Army of ...   \n",
      "\n",
      "                                               STARS    VOTES  RunTime Gross  \n",
      "0  \\n    Director:\\nPeter Thorwarth\\n| \\n    Star...   21,062    121.0   NaN  \n",
      "1  \\n            \\n    Stars:\\nChris Wood, \\nSara...   17,870     25.0   NaN  \n",
      "2  \\n            \\n    Stars:\\nAndrew Lincoln, \\n...  885,805     44.0   NaN  \n",
      "3  \\n            \\n    Stars:\\nJustin Roiland, \\n...  414,849     23.0   NaN  \n",
      "4  \\n    Director:\\nMatthias Schweighöfer\\n| \\n  ...      NaN      NaN   NaN  \n"
     ]
    }
   ],
   "source": [
    "# Assuming your DataFrame is named pdDf\n",
    "# Remove duplicates based on all columns\n",
    "pdDf_no_duplicates = pdDf.drop_duplicates()\n",
    "\n",
    "# Alternatively, if you only want to consider specific columns for duplicates\n",
    "pdDf_no_duplicates = pdDf.drop_duplicates(subset=['MOVIES', 'YEAR', 'GENRE', 'RATING', 'ONE-LINE', \n",
    "                                                  'STARS', 'VOTES', 'RunTime', 'Gross'])\n",
    "\n",
    "# Display the cleaned DataFrame\n",
    "print(pdDf_no_duplicates.shape)\n",
    "print(pdDf_no_duplicates.head())\n"
   ]
  },
  {
   "cell_type": "code",
   "execution_count": 48,
   "id": "0bad8670",
   "metadata": {},
   "outputs": [
    {
     "name": "stdout",
     "output_type": "stream",
     "text": [
      "(0, 9)\n"
     ]
    }
   ],
   "source": [
    "# Calculate IQR for numerical columns\n",
    "Q1 = pdDf_clean[['RATING', 'VOTES', 'RunTime', 'Gross']].quantile(0.25)\n",
    "Q3 = pdDf_clean[['RATING', 'VOTES', 'RunTime', 'Gross']].quantile(0.75)\n",
    "IQR = Q3 - Q1\n",
    "\n",
    "# Define the bounds\n",
    "lower_bound = Q1 - 1.5 * IQR\n",
    "upper_bound = Q3 + 1.5 * IQR\n",
    "\n",
    "# Create a boolean mask for detecting outliers\n",
    "outliers_iqr = ((pdDf_clean[['RATING', 'VOTES', 'RunTime', 'Gross']] < lower_bound) | \n",
    "                (pdDf_clean[['RATING', 'VOTES', 'RunTime', 'Gross']] > upper_bound)).any(axis=1)\n",
    "\n",
    "# Remove outliers\n",
    "pdDf_no_outliers_iqr = pdDf_clean.loc[~outliers_iqr]\n",
    "\n",
    "# Verify DataFrame size\n",
    "print(pdDf_no_outliers_iqr.shape)\n"
   ]
  },
  {
   "cell_type": "code",
   "execution_count": 49,
   "id": "d679704e",
   "metadata": {},
   "outputs": [
    {
     "name": "stdout",
     "output_type": "stream",
     "text": [
      "                                MOVIES         YEAR  \\\n",
      "0                        blood red sky       (2021)   \n",
      "1  masters of the universe: revelation     (2021– )   \n",
      "2                     the walking dead  (2010–2022)   \n",
      "3                       rick and morty     (2013– )   \n",
      "4                      army of thieves       (2021)   \n",
      "\n",
      "                          GENRE  RATING  \\\n",
      "0      action, horror, thriller     6.1   \n",
      "1  animation, action, adventure     5.0   \n",
      "2       drama, horror, thriller     8.2   \n",
      "3  animation, adventure, comedy     9.2   \n",
      "4         action, crime, horror     NaN   \n",
      "\n",
      "                                            ONE-LINE  \\\n",
      "0  a woman with a mysterious illness is forced in...   \n",
      "1  the war for eternia begins again in what may b...   \n",
      "2  sheriff deputy rick grimes wakes up from a com...   \n",
      "3  an animated series that follows the exploits o...   \n",
      "4  a prequel, set before the events of army of th...   \n",
      "\n",
      "                                               STARS    VOTES  RunTime Gross  \n",
      "0  director:\\npeter thorwarth\\n| \\n    stars:\\npe...   21,062    121.0   NaN  \n",
      "1  stars:\\nchris wood, \\nsarah michelle gellar, \\...   17,870     25.0   NaN  \n",
      "2  stars:\\nandrew lincoln, \\nnorman reedus, \\nmel...  885,805     44.0   NaN  \n",
      "3  stars:\\njustin roiland, \\nchris parnell, \\nspe...  414,849     23.0   NaN  \n",
      "4  director:\\nmatthias schweighöfer\\n| \\n    star...      NaN      NaN   NaN  \n"
     ]
    }
   ],
   "source": [
    "# 1. Standardize text formats\n",
    "pdDf['MOVIES'] = pdDf['MOVIES'].str.strip().str.lower()  # Convert to lowercase and remove leading/trailing spaces\n",
    "pdDf['GENRE'] = pdDf['GENRE'].str.strip().str.lower()\n",
    "pdDf['ONE-LINE'] = pdDf['ONE-LINE'].str.strip().str.lower()\n",
    "pdDf['STARS'] = pdDf['STARS'].str.strip().str.lower()\n",
    "\n",
    "# 2. Merge similar categories\n",
    "# Example: Standardize genres\n",
    "genre_mapping = {\n",
    "    'action': 'Action',\n",
    "    'adventure': 'Adventure',\n",
    "    'comedy': 'Comedy',\n",
    "    'drama': 'Drama',\n",
    "    # Add more mappings as needed\n",
    "}\n",
    "\n",
    "pdDf['GENRE'] = pdDf['GENRE'].map(genre_mapping).fillna(pdDf['GENRE'])\n",
    "\n",
    "# Print the cleaned DataFrame\n",
    "print(pdDf.head())\n"
   ]
  }
 ],
 "metadata": {
  "kernelspec": {
   "display_name": "Python 3 (ipykernel)",
   "language": "python",
   "name": "python3"
  },
  "language_info": {
   "codemirror_mode": {
    "name": "ipython",
    "version": 3
   },
   "file_extension": ".py",
   "mimetype": "text/x-python",
   "name": "python",
   "nbconvert_exporter": "python",
   "pygments_lexer": "ipython3",
   "version": "3.9.12"
  }
 },
 "nbformat": 4,
 "nbformat_minor": 5
}
