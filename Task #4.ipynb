{
 "cells": [
  {
   "cell_type": "code",
   "execution_count": 3,
   "id": "af6da80f",
   "metadata": {},
   "outputs": [],
   "source": [
    "import pandas as pd"
   ]
  },
  {
   "cell_type": "code",
   "execution_count": 4,
   "id": "91082ebf",
   "metadata": {},
   "outputs": [],
   "source": [
    "pdDf = pd.read_csv('C:\\\\Users\\\\sulej\\\\OneDrive\\\\Рабочий стол\\\\7 semester\\\\Data Mining\\\\StudentPerformanceFactors.csv')"
   ]
  },
  {
   "cell_type": "code",
   "execution_count": 5,
   "id": "40856cef",
   "metadata": {},
   "outputs": [
    {
     "name": "stdout",
     "output_type": "stream",
     "text": [
      "Hours_Studied\n",
      "Attendance\n",
      "Parental_Involvement\n",
      "Access_to_Resources\n",
      "Extracurricular_Activities\n",
      "Sleep_Hours\n",
      "Previous_Scores\n",
      "Motivation_Level\n",
      "Internet_Access\n",
      "Tutoring_Sessions\n",
      "Family_Income\n",
      "Teacher_Quality\n",
      "School_Type\n",
      "Peer_Influence\n",
      "Physical_Activity\n",
      "Learning_Disabilities\n",
      "Parental_Education_Level\n",
      "Distance_from_Home\n",
      "Gender\n",
      "Exam_Score\n"
     ]
    }
   ],
   "source": [
    "for col in pdDf.columns:\n",
    "    print(col)"
   ]
  },
  {
   "cell_type": "code",
   "execution_count": 6,
   "id": "20a95659",
   "metadata": {},
   "outputs": [
    {
     "name": "stdout",
     "output_type": "stream",
     "text": [
      "      Hours_Studied  Attendance Parental_Involvement Access_to_Resources  \\\n",
      "0                23          84                  Low                High   \n",
      "1                19          64                  Low              Medium   \n",
      "2                24          98               Medium              Medium   \n",
      "3                29          89                  Low              Medium   \n",
      "4                19          92               Medium              Medium   \n",
      "...             ...         ...                  ...                 ...   \n",
      "6602             25          69                 High              Medium   \n",
      "6603             23          76                 High              Medium   \n",
      "6604             20          90               Medium                 Low   \n",
      "6605             10          86                 High                High   \n",
      "6606             15          67               Medium                 Low   \n",
      "\n",
      "     Extracurricular_Activities  Sleep_Hours  Previous_Scores  \\\n",
      "0                            No            7               73   \n",
      "1                            No            8               59   \n",
      "2                           Yes            7               91   \n",
      "3                           Yes            8               98   \n",
      "4                           Yes            6               65   \n",
      "...                         ...          ...              ...   \n",
      "6602                         No            7               76   \n",
      "6603                         No            8               81   \n",
      "6604                        Yes            6               65   \n",
      "6605                        Yes            6               91   \n",
      "6606                        Yes            9               94   \n",
      "\n",
      "     Motivation_Level Internet_Access  Tutoring_Sessions Family_Income  \\\n",
      "0                 Low             Yes                  0           Low   \n",
      "1                 Low             Yes                  2        Medium   \n",
      "2              Medium             Yes                  2        Medium   \n",
      "3              Medium             Yes                  1        Medium   \n",
      "4              Medium             Yes                  3        Medium   \n",
      "...               ...             ...                ...           ...   \n",
      "6602           Medium             Yes                  1          High   \n",
      "6603           Medium             Yes                  3           Low   \n",
      "6604              Low             Yes                  3           Low   \n",
      "6605             High             Yes                  2           Low   \n",
      "6606           Medium             Yes                  0        Medium   \n",
      "\n",
      "     Teacher_Quality School_Type Peer_Influence  Physical_Activity  \\\n",
      "0             Medium      Public       Positive                  3   \n",
      "1             Medium      Public       Negative                  4   \n",
      "2             Medium      Public        Neutral                  4   \n",
      "3             Medium      Public       Negative                  4   \n",
      "4               High      Public        Neutral                  4   \n",
      "...              ...         ...            ...                ...   \n",
      "6602          Medium      Public       Positive                  2   \n",
      "6603            High      Public       Positive                  2   \n",
      "6604          Medium      Public       Negative                  2   \n",
      "6605          Medium     Private       Positive                  3   \n",
      "6606          Medium      Public       Positive                  4   \n",
      "\n",
      "     Learning_Disabilities Parental_Education_Level Distance_from_Home  \\\n",
      "0                       No              High School               Near   \n",
      "1                       No                  College           Moderate   \n",
      "2                       No             Postgraduate               Near   \n",
      "3                       No              High School           Moderate   \n",
      "4                       No                  College               Near   \n",
      "...                    ...                      ...                ...   \n",
      "6602                    No              High School               Near   \n",
      "6603                    No              High School               Near   \n",
      "6604                    No             Postgraduate               Near   \n",
      "6605                    No              High School                Far   \n",
      "6606                    No             Postgraduate               Near   \n",
      "\n",
      "      Gender  Exam_Score  \n",
      "0       Male          67  \n",
      "1     Female          61  \n",
      "2       Male          74  \n",
      "3       Male          71  \n",
      "4     Female          70  \n",
      "...      ...         ...  \n",
      "6602  Female          68  \n",
      "6603  Female          69  \n",
      "6604  Female          68  \n",
      "6605  Female          68  \n",
      "6606    Male          64  \n",
      "\n",
      "[6607 rows x 20 columns]\n"
     ]
    }
   ],
   "source": [
    "print(pdDf)"
   ]
  },
  {
   "cell_type": "code",
   "execution_count": 7,
   "id": "354ddd84",
   "metadata": {},
   "outputs": [],
   "source": [
    "# Create new features by combining or transforming existing features (e.g., adding\n",
    "# interaction terms or polynomial features)."
   ]
  },
  {
   "cell_type": "code",
   "execution_count": 8,
   "id": "c095afe2",
   "metadata": {},
   "outputs": [],
   "source": [
    "# Lets see interaction between Exam_Score Level and attendance"
   ]
  },
  {
   "cell_type": "code",
   "execution_count": 9,
   "id": "67798913",
   "metadata": {},
   "outputs": [],
   "source": [
    "pdDf['Exam_Score_Att_Interaction'] = pdDf['Exam_Score'] * pdDf['Attendance']"
   ]
  },
  {
   "cell_type": "code",
   "execution_count": 10,
   "id": "af859cf2",
   "metadata": {},
   "outputs": [
    {
     "name": "stdout",
     "output_type": "stream",
     "text": [
      "      Attendance  Exam_Score  Exam_Score_Att_Interaction\n",
      "0             84          67                        5628\n",
      "1             64          61                        3904\n",
      "2             98          74                        7252\n",
      "3             89          71                        6319\n",
      "4             92          70                        6440\n",
      "...          ...         ...                         ...\n",
      "6602          69          68                        4692\n",
      "6603          76          69                        5244\n",
      "6604          90          68                        6120\n",
      "6605          86          68                        5848\n",
      "6606          67          64                        4288\n",
      "\n",
      "[6607 rows x 3 columns]\n"
     ]
    }
   ],
   "source": [
    "print(pdDf[['Attendance', 'Exam_Score', 'Exam_Score_Att_Interaction']])"
   ]
  },
  {
   "cell_type": "code",
   "execution_count": null,
   "id": "94d27a47",
   "metadata": {},
   "outputs": [],
   "source": []
  },
  {
   "cell_type": "code",
   "execution_count": 11,
   "id": "d99e1caf",
   "metadata": {},
   "outputs": [],
   "source": [
    "# Efficiency of studying (Previous Scores to Hours Studied ratio)\n",
    "pdDf['Study_Efficiency'] = pdDf['Previous_Scores'] / pdDf['Hours_Studied']\n"
   ]
  },
  {
   "cell_type": "code",
   "execution_count": 12,
   "id": "3dad9ae0",
   "metadata": {},
   "outputs": [
    {
     "name": "stdout",
     "output_type": "stream",
     "text": [
      "      Study_Efficiency  Previous_Scores  Hours_Studied\n",
      "0             3.173913               73             23\n",
      "1             3.105263               59             19\n",
      "2             3.791667               91             24\n",
      "3             3.379310               98             29\n",
      "4             3.421053               65             19\n",
      "...                ...              ...            ...\n",
      "6602          3.040000               76             25\n",
      "6603          3.521739               81             23\n",
      "6604          3.250000               65             20\n",
      "6605          9.100000               91             10\n",
      "6606          6.266667               94             15\n",
      "\n",
      "[6607 rows x 3 columns]\n"
     ]
    }
   ],
   "source": [
    "print(pdDf[['Study_Efficiency', 'Previous_Scores', 'Hours_Studied']])"
   ]
  },
  {
   "cell_type": "code",
   "execution_count": 13,
   "id": "68ed873a",
   "metadata": {},
   "outputs": [],
   "source": [
    "# Extract date-based features (e.g., year, month, day) from datetime columns using\n",
    "# pd.to_datetime() and dt accessor."
   ]
  },
  {
   "cell_type": "code",
   "execution_count": 14,
   "id": "014418ee",
   "metadata": {},
   "outputs": [],
   "source": [
    "pdDf2 = pd.read_csv('C:\\\\Users\\\\sulej\\\\OneDrive\\\\Рабочий стол\\\\7 semester\\\\Data Mining\\\\Apple_price_to_clean.csv')"
   ]
  },
  {
   "cell_type": "code",
   "execution_count": 15,
   "id": "778983b4",
   "metadata": {},
   "outputs": [
    {
     "name": "stdout",
     "output_type": "stream",
     "text": [
      "            Date        Open        High         Low       Close   Adj Close  \\\n",
      "0     2015-08-25   27.777500           -         NaN   25.934999       ERROR   \n",
      "1     2015-08-26   26.772499   27.472500   26.262501   27.422501   25.039267   \n",
      "2     2015-08-27   28.057501   28.309999   27.504999   28.230000   25.776581   \n",
      "3     2015-08-28   28.042500   28.327499   27.885000   28.322500   25.861042   \n",
      "4     2015-08-31   28.007500   28.632500   28.000000   28.190001   25.740063   \n",
      "...          ...         ...         ...         ...         ...         ...   \n",
      "1769  2022-08-18  173.750000  174.899994  173.119995  174.149994  174.149994   \n",
      "1770  2022-08-19  173.029999  173.740005  171.309998  171.520004  171.520004   \n",
      "1771  2022-08-22  169.690002  169.860001  167.139999  167.570007  167.570007   \n",
      "1772  2022-08-23  167.080002  168.710007  166.649994  167.229996  167.229996   \n",
      "1773  2022-08-24  167.320007  168.110001  166.250000  167.529999  167.529999   \n",
      "\n",
      "         Volume  \n",
      "0     414406400  \n",
      "1     387098400  \n",
      "2     338464400  \n",
      "3         ERROR  \n",
      "4     224917200  \n",
      "...         ...  \n",
      "1769   62290100  \n",
      "1770   70211500  \n",
      "1771   69026800  \n",
      "1772   54147100  \n",
      "1773   53766800  \n",
      "\n",
      "[1774 rows x 7 columns]\n"
     ]
    }
   ],
   "source": [
    "print(pdDf2)"
   ]
  },
  {
   "cell_type": "code",
   "execution_count": 16,
   "id": "4b218b4d",
   "metadata": {},
   "outputs": [],
   "source": [
    "pdDf2['Date'] = pd.to_datetime(pdDf2['Date'], errors='coerce')"
   ]
  },
  {
   "cell_type": "code",
   "execution_count": 17,
   "id": "059096a3",
   "metadata": {},
   "outputs": [],
   "source": [
    "pdDf2['year'] = pdDf2['Date'].dt.year"
   ]
  },
  {
   "cell_type": "code",
   "execution_count": 18,
   "id": "b2a60fbf",
   "metadata": {},
   "outputs": [],
   "source": [
    "pdDf2['month'] = pdDf2['Date'].dt.month"
   ]
  },
  {
   "cell_type": "code",
   "execution_count": 19,
   "id": "168d12ef",
   "metadata": {},
   "outputs": [],
   "source": [
    "pdDf2['day'] = pdDf2['Date'].dt.day"
   ]
  },
  {
   "cell_type": "code",
   "execution_count": 20,
   "id": "dd13fcef",
   "metadata": {},
   "outputs": [],
   "source": [
    "pdDf2['year'] = pdDf2['year'].fillna(0).astype(int)\n",
    "pdDf2['month'] = pdDf2['month'].fillna(0).astype(int)\n",
    "pdDf2['day'] = pdDf2['day'].fillna(0).astype(int)"
   ]
  },
  {
   "cell_type": "code",
   "execution_count": 21,
   "id": "50d3137f",
   "metadata": {},
   "outputs": [
    {
     "name": "stdout",
     "output_type": "stream",
     "text": [
      "           Date  year  month  day\n",
      "0    2015-08-25  2015      8   25\n",
      "1    2015-08-26  2015      8   26\n",
      "2    2015-08-27  2015      8   27\n",
      "3    2015-08-28  2015      8   28\n",
      "4    2015-08-31  2015      8   31\n",
      "...         ...   ...    ...  ...\n",
      "1769 2022-08-18  2022      8   18\n",
      "1770 2022-08-19  2022      8   19\n",
      "1771 2022-08-22  2022      8   22\n",
      "1772 2022-08-23  2022      8   23\n",
      "1773 2022-08-24  2022      8   24\n",
      "\n",
      "[1774 rows x 4 columns]\n"
     ]
    }
   ],
   "source": [
    "print(pdDf2[['Date','year','month','day']])"
   ]
  },
  {
   "cell_type": "code",
   "execution_count": 22,
   "id": "8c29237f",
   "metadata": {},
   "outputs": [
    {
     "name": "stdout",
     "output_type": "stream",
     "text": [
      "Date\n",
      "Open\n",
      "High\n",
      "Low\n",
      "Close\n",
      "Adj Close\n",
      "Volume\n",
      "year\n",
      "month\n",
      "day\n"
     ]
    }
   ],
   "source": [
    "for col in pdDf2.columns:\n",
    "    print(col)"
   ]
  },
  {
   "cell_type": "code",
   "execution_count": 23,
   "id": "65e9a217",
   "metadata": {},
   "outputs": [],
   "source": [
    "# Usedomainknowledge to engineer features that might be useful for your specific\n",
    "# problem."
   ]
  },
  {
   "cell_type": "code",
   "execution_count": 26,
   "id": "1a5d864a",
   "metadata": {},
   "outputs": [],
   "source": [
    "# Convert 'High' and 'Low' columns to numeric, coercing errors to NaN\n",
    "pdDf2['High'] = pd.to_numeric(pdDf2['High'], errors='coerce')\n",
    "pdDf2['Low'] = pd.to_numeric(pdDf2['Low'], errors='coerce')"
   ]
  },
  {
   "cell_type": "code",
   "execution_count": 27,
   "id": "c1114182",
   "metadata": {},
   "outputs": [],
   "source": [
    "# Create a price range feature\n",
    "pdDf2['Price_Range'] = pdDf2['High'] - pdDf2['Low']\n"
   ]
  },
  {
   "cell_type": "code",
   "execution_count": 29,
   "id": "95378cda",
   "metadata": {},
   "outputs": [
    {
     "name": "stdout",
     "output_type": "stream",
     "text": [
      "        High        Low  Price_Range\n",
      "0        NaN        NaN          NaN\n",
      "1  27.472500  26.262501     1.209999\n",
      "2  28.309999  27.504999     0.805000\n",
      "3  28.327499  27.885000     0.442499\n",
      "4  28.632500  28.000000     0.632500\n"
     ]
    }
   ],
   "source": [
    "print(pdDf2[['High', 'Low', 'Price_Range']].head())"
   ]
  },
  {
   "cell_type": "code",
   "execution_count": 31,
   "id": "234897d0",
   "metadata": {},
   "outputs": [],
   "source": [
    "# Create a feature for the day of the week (0=Monday, 6=Sunday)\n",
    "pdDf2['Day_of_Week'] = pd.to_datetime(pdDf2['Date']).dt.dayofweek\n"
   ]
  },
  {
   "cell_type": "code",
   "execution_count": 32,
   "id": "a1aaf541",
   "metadata": {},
   "outputs": [
    {
     "name": "stdout",
     "output_type": "stream",
     "text": [
      "      Day_of_Week       Date\n",
      "0             1.0 2015-08-25\n",
      "1             2.0 2015-08-26\n",
      "2             3.0 2015-08-27\n",
      "3             4.0 2015-08-28\n",
      "4             0.0 2015-08-31\n",
      "...           ...        ...\n",
      "1769          3.0 2022-08-18\n",
      "1770          4.0 2022-08-19\n",
      "1771          0.0 2022-08-22\n",
      "1772          1.0 2022-08-23\n",
      "1773          2.0 2022-08-24\n",
      "\n",
      "[1774 rows x 2 columns]\n"
     ]
    }
   ],
   "source": [
    "print(pdDf2[['Day_of_Week', 'Date']])"
   ]
  },
  {
   "cell_type": "code",
   "execution_count": 33,
   "id": "9144360a",
   "metadata": {},
   "outputs": [],
   "source": [
    "day_mapping = {\n",
    "    0: 'Monday',\n",
    "    1: 'Tuesday',\n",
    "    2: 'Wednesday',\n",
    "    3: 'Thursday',\n",
    "    4: 'Friday',\n",
    "    5: 'Saturday',\n",
    "    6: 'Sunday'\n",
    "}"
   ]
  },
  {
   "cell_type": "code",
   "execution_count": 34,
   "id": "a326a606",
   "metadata": {},
   "outputs": [],
   "source": [
    "pdDf2['Day_Name'] = pdDf2['Day_of_Week'].map(day_mapping)"
   ]
  },
  {
   "cell_type": "code",
   "execution_count": 36,
   "id": "e73538f4",
   "metadata": {},
   "outputs": [
    {
     "name": "stdout",
     "output_type": "stream",
     "text": [
      "        Date   Day_Name\n",
      "0 2015-08-25    Tuesday\n",
      "1 2015-08-26  Wednesday\n",
      "2 2015-08-27   Thursday\n",
      "3 2015-08-28     Friday\n",
      "4 2015-08-31     Monday\n"
     ]
    }
   ],
   "source": [
    "print(pdDf2[['Date', 'Day_Name']].head())"
   ]
  },
  {
   "cell_type": "code",
   "execution_count": null,
   "id": "d22dc7f8",
   "metadata": {},
   "outputs": [],
   "source": []
  }
 ],
 "metadata": {
  "kernelspec": {
   "display_name": "Python 3 (ipykernel)",
   "language": "python",
   "name": "python3"
  },
  "language_info": {
   "codemirror_mode": {
    "name": "ipython",
    "version": 3
   },
   "file_extension": ".py",
   "mimetype": "text/x-python",
   "name": "python",
   "nbconvert_exporter": "python",
   "pygments_lexer": "ipython3",
   "version": "3.9.12"
  }
 },
 "nbformat": 4,
 "nbformat_minor": 5
}
