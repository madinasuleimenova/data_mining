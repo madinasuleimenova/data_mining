{
 "cells": [
  {
   "cell_type": "code",
   "execution_count": 1,
   "id": "5242a998",
   "metadata": {},
   "outputs": [],
   "source": [
    "import pandas as pd\n",
    "from scipy import stats"
   ]
  },
  {
   "cell_type": "code",
   "execution_count": 2,
   "id": "edd81a59",
   "metadata": {},
   "outputs": [],
   "source": [
    "pdDf = pd.read_csv('C:\\\\Users\\\\sulej\\\\OneDrive\\\\Рабочий стол\\\\7 semester\\\\Data Mining\\\\movies.csv')"
   ]
  },
  {
   "cell_type": "code",
   "execution_count": 3,
   "id": "1053fbbc",
   "metadata": {},
   "outputs": [
    {
     "name": "stdout",
     "output_type": "stream",
     "text": [
      "                                   MOVIES         YEAR  \\\n",
      "0                           Blood Red Sky       (2021)   \n",
      "1     Masters of the Universe: Revelation     (2021– )   \n",
      "2                        The Walking Dead  (2010–2022)   \n",
      "3                          Rick and Morty     (2013– )   \n",
      "4                         Army of Thieves       (2021)   \n",
      "...                                   ...          ...   \n",
      "9994                       The Imperfects     (2021– )   \n",
      "9995                               Arcane     (2021– )   \n",
      "9996                    Heart of Invictus     (2022– )   \n",
      "9997                       The Imperfects     (2021– )   \n",
      "9998                       The Imperfects     (2021– )   \n",
      "\n",
      "                                           GENRE  RATING  \\\n",
      "0         \\nAction, Horror, Thriller                 6.1   \n",
      "1     \\nAnimation, Action, Adventure                 5.0   \n",
      "2          \\nDrama, Horror, Thriller                 8.2   \n",
      "3     \\nAnimation, Adventure, Comedy                 9.2   \n",
      "4            \\nAction, Crime, Horror                 NaN   \n",
      "...                                          ...     ...   \n",
      "9994     \\nAdventure, Drama, Fantasy                 NaN   \n",
      "9995  \\nAnimation, Action, Adventure                 NaN   \n",
      "9996            \\nDocumentary, Sport                 NaN   \n",
      "9997     \\nAdventure, Drama, Fantasy                 NaN   \n",
      "9998     \\nAdventure, Drama, Fantasy                 NaN   \n",
      "\n",
      "                                               ONE-LINE  \\\n",
      "0     \\nA woman with a mysterious illness is forced ...   \n",
      "1     \\nThe war for Eternia begins again in what may...   \n",
      "2     \\nSheriff Deputy Rick Grimes wakes up from a c...   \n",
      "3     \\nAn animated series that follows the exploits...   \n",
      "4     \\nA prequel, set before the events of Army of ...   \n",
      "...                                                 ...   \n",
      "9994                                     \\nAdd a Plot\\n   \n",
      "9995                                     \\nAdd a Plot\\n   \n",
      "9996                                     \\nAdd a Plot\\n   \n",
      "9997                                     \\nAdd a Plot\\n   \n",
      "9998                                     \\nAdd a Plot\\n   \n",
      "\n",
      "                                                  STARS    VOTES  RunTime  \\\n",
      "0     \\n    Director:\\nPeter Thorwarth\\n| \\n    Star...   21,062    121.0   \n",
      "1     \\n            \\n    Stars:\\nChris Wood, \\nSara...   17,870     25.0   \n",
      "2     \\n            \\n    Stars:\\nAndrew Lincoln, \\n...  885,805     44.0   \n",
      "3     \\n            \\n    Stars:\\nJustin Roiland, \\n...  414,849     23.0   \n",
      "4     \\n    Director:\\nMatthias Schweighöfer\\n| \\n  ...      NaN      NaN   \n",
      "...                                                 ...      ...      ...   \n",
      "9994  \\n            \\n    Stars:\\nMorgan Taylor Camp...      NaN      NaN   \n",
      "9995                                                 \\n      NaN      NaN   \n",
      "9996  \\n    Director:\\nOrlando von Einsiedel\\n| \\n  ...      NaN      NaN   \n",
      "9997  \\n    Director:\\nJovanka Vuckovic\\n| \\n    Sta...      NaN      NaN   \n",
      "9998  \\n    Director:\\nJovanka Vuckovic\\n| \\n    Sta...      NaN      NaN   \n",
      "\n",
      "     Gross  \n",
      "0      NaN  \n",
      "1      NaN  \n",
      "2      NaN  \n",
      "3      NaN  \n",
      "4      NaN  \n",
      "...    ...  \n",
      "9994   NaN  \n",
      "9995   NaN  \n",
      "9996   NaN  \n",
      "9997   NaN  \n",
      "9998   NaN  \n",
      "\n",
      "[9999 rows x 9 columns]\n"
     ]
    }
   ],
   "source": [
    "print(pdDf)"
   ]
  },
  {
   "cell_type": "code",
   "execution_count": 4,
   "id": "fd1a4787",
   "metadata": {},
   "outputs": [
    {
     "name": "stdout",
     "output_type": "stream",
     "text": [
      "MOVIES\n",
      "YEAR\n",
      "GENRE\n",
      "RATING\n",
      "ONE-LINE\n",
      "STARS\n",
      "VOTES\n",
      "RunTime\n",
      "Gross\n"
     ]
    }
   ],
   "source": [
    "for col in pdDf.columns:\n",
    "    print(col)"
   ]
  },
  {
   "cell_type": "code",
   "execution_count": 5,
   "id": "79c4441a",
   "metadata": {},
   "outputs": [
    {
     "name": "stdout",
     "output_type": "stream",
     "text": [
      "MOVIES       object\n",
      "YEAR         object\n",
      "GENRE        object\n",
      "RATING      float64\n",
      "ONE-LINE     object\n",
      "STARS        object\n",
      "VOTES        object\n",
      "RunTime     float64\n",
      "Gross        object\n",
      "dtype: object\n"
     ]
    }
   ],
   "source": [
    "print(pdDf.dtypes)"
   ]
  },
  {
   "cell_type": "code",
   "execution_count": 6,
   "id": "2f36e6cc",
   "metadata": {},
   "outputs": [],
   "source": [
    "                                # Step #1"
   ]
  },
  {
   "cell_type": "code",
   "execution_count": 7,
   "id": "a9ee99a3",
   "metadata": {},
   "outputs": [],
   "source": [
    "# Remove duplicate rows using drop_duplicates()."
   ]
  },
  {
   "cell_type": "code",
   "execution_count": 8,
   "id": "5823f0f4",
   "metadata": {},
   "outputs": [],
   "source": [
    "# Firstly lets delete rows with missing vaalues\n",
    "pdDf_clean2 = pdDf.dropna(subset = ['RATING', 'VOTES','RunTime','Gross']).copy()"
   ]
  },
  {
   "cell_type": "code",
   "execution_count": 21,
   "id": "5325bf03",
   "metadata": {},
   "outputs": [
    {
     "name": "stdout",
     "output_type": "stream",
     "text": [
      "Empty DataFrame\n",
      "Columns: [MOVIES, YEAR, GENRE, RATING, ONE-LINE, STARS, VOTES, RunTime, Gross]\n",
      "Index: []\n"
     ]
    }
   ],
   "source": [
    "print(pdDf_clean2)"
   ]
  },
  {
   "cell_type": "code",
   "execution_count": 19,
   "id": "59330e96",
   "metadata": {},
   "outputs": [],
   "source": [
    "# As we can see in 'Gross' column we have '$' and 'M'\n",
    "pdDf_clean2['Gross'] = pdDf_clean2['Gross'].replace('[\\$,]', '', regex=True).astype(float)*1e6"
   ]
  },
  {
   "cell_type": "code",
   "execution_count": 20,
   "id": "8e6412f5",
   "metadata": {},
   "outputs": [
    {
     "name": "stdout",
     "output_type": "stream",
     "text": [
      "Empty DataFrame\n",
      "Columns: [MOVIES, YEAR, GENRE, RATING, ONE-LINE, STARS, VOTES, RunTime, Gross]\n",
      "Index: []\n"
     ]
    }
   ],
   "source": [
    "print(pdDf_clean2)"
   ]
  },
  {
   "cell_type": "code",
   "execution_count": 10,
   "id": "cd0ca385",
   "metadata": {},
   "outputs": [],
   "source": [
    "# We need to convert specific columns to numeric data type\n",
    "pdDf_clean2[['RATING','VOTES', 'RunTime', 'Gross']] = pdDf_clean2[['RATING','VOTES','RunTime','Gross']].apply(pd.to_numeric, errors = 'coerce')"
   ]
  },
  {
   "cell_type": "code",
   "execution_count": 11,
   "id": "403a75f2",
   "metadata": {},
   "outputs": [
    {
     "name": "stdout",
     "output_type": "stream",
     "text": [
      "                                                 MOVIES        YEAR  \\\n",
      "77                               The Hitman's Bodyguard      (2017)   \n",
      "85                                        Jurassic Park      (1993)   \n",
      "95                                        Don't Breathe      (2016)   \n",
      "111   The Lord of the Rings: The Fellowship of the Ring      (2001)   \n",
      "125                                         Escape Room  (I) (2019)   \n",
      "...                                                 ...         ...   \n",
      "5750                           Vidal Sassoon: The Movie      (2010)   \n",
      "5770                                       Men at Lunch      (2012)   \n",
      "5835                                    Decoding Deepak      (2012)   \n",
      "6056                                     Theo Who Lived      (2016)   \n",
      "6292                                   Southern Justice      (2006)   \n",
      "\n",
      "                                          GENRE  RATING  \\\n",
      "77          \\nAction, Comedy, Crime                 6.9   \n",
      "85      \\nAction, Adventure, Sci-Fi                 8.1   \n",
      "95        \\nCrime, Horror, Thriller                 7.1   \n",
      "111      \\nAction, Adventure, Drama                 8.8   \n",
      "125     \\nAction, Adventure, Horror                 6.4   \n",
      "...                                         ...     ...   \n",
      "5750                  \\nDocumentary                 6.5   \n",
      "5770         \\nDocumentary, Mystery                 6.3   \n",
      "5835                  \\nDocumentary                 5.5   \n",
      "6056                  \\nDocumentary                 6.8   \n",
      "6292  \\nAction, Adventure, Thriller                 3.1   \n",
      "\n",
      "                                               ONE-LINE  \\\n",
      "77    \\nThe world's top bodyguard gets a new client,...   \n",
      "85    \\nA pragmatic paleontologist visiting an almos...   \n",
      "95    \\nHoping to walk away with a massive fortune, ...   \n",
      "111   \\nA meek Hobbit from the Shire and eight compa...   \n",
      "125   \\nSix strangers find themselves in a maze of d...   \n",
      "...                                                 ...   \n",
      "5750  \\nVidal Sassoon is more than just a hairdresse...   \n",
      "5770  \\nThe story of \"Lunch atop a Skyscraper,\" the ...   \n",
      "5835  \\nDeepak Chopra's son, Gotham, spends a year t...   \n",
      "6056  \\nA documentary on American journalist Theo Pa...   \n",
      "6292  \\nM.D. Selig's feature thriller, SOUTHERN JUST...   \n",
      "\n",
      "                                                  STARS  VOTES  RunTime  Gross  \n",
      "77    \\n    Director:\\nPatrick Hughes\\n| \\n    Stars...    NaN    118.0    NaN  \n",
      "85    \\n    Director:\\nSteven Spielberg\\n| \\n    Sta...    NaN    127.0    NaN  \n",
      "95    \\n    Director:\\nFede Alvarez\\n| \\n    Stars:\\...    NaN     88.0    NaN  \n",
      "111   \\n    Director:\\nPeter Jackson\\n| \\n    Stars:...    NaN    178.0    NaN  \n",
      "125   \\n    Director:\\nAdam Robitel\\n| \\n    Stars:\\...    NaN     99.0    NaN  \n",
      "...                                                 ...    ...      ...    ...  \n",
      "5750  \\n    Director:\\nCraig Teper\\n| \\n    Stars:\\n...  245.0     90.0    NaN  \n",
      "5770  \\n    Director:\\nSeán Ó Cualáin\\n| \\n    Stars...  331.0     75.0    NaN  \n",
      "5835  \\n    Director:\\nGotham Chopra\\n| \\n    Stars:...  124.0     83.0    NaN  \n",
      "6056  \\n    Director:\\nDavid Schisgall\\n| \\n    Star...  111.0     86.0    NaN  \n",
      "6292  \\n    Director:\\nM.D. Selig\\n| \\n    Stars:\\nM...  126.0     96.0    NaN  \n",
      "\n",
      "[460 rows x 9 columns]\n"
     ]
    }
   ],
   "source": [
    "print(pdDf_clean2)"
   ]
  },
  {
   "cell_type": "code",
   "execution_count": 14,
   "id": "8f686ce7",
   "metadata": {},
   "outputs": [],
   "source": [
    "# Now we clean our data from Nan values by using .dropna() function\n",
    "pdDf_clean2 = pdDf_clean2.dropna(subset = ['RATING', 'VOTES', 'RunTime', 'Gross']) "
   ]
  },
  {
   "cell_type": "code",
   "execution_count": 15,
   "id": "b4566242",
   "metadata": {},
   "outputs": [
    {
     "name": "stdout",
     "output_type": "stream",
     "text": [
      "Empty DataFrame\n",
      "Columns: [MOVIES, YEAR, GENRE, RATING, ONE-LINE, STARS, VOTES, RunTime, Gross]\n",
      "Index: []\n"
     ]
    }
   ],
   "source": [
    "print(pdDf_clean2)"
   ]
  },
  {
   "cell_type": "code",
   "execution_count": 84,
   "id": "e7df273e",
   "metadata": {},
   "outputs": [],
   "source": [
    "# pdDf_clean = pdDf_clean.drop_duplicates()"
   ]
  },
  {
   "cell_type": "code",
   "execution_count": 85,
   "id": "5c168c97",
   "metadata": {},
   "outputs": [
    {
     "name": "stdout",
     "output_type": "stream",
     "text": [
      "Empty DataFrame\n",
      "Columns: [MOVIES, YEAR, GENRE, RATING, ONE-LINE, STARS, VOTES, RunTime, Gross]\n",
      "Index: []\n"
     ]
    }
   ],
   "source": [
    "print(pdDf_clean)"
   ]
  },
  {
   "cell_type": "code",
   "execution_count": 86,
   "id": "325fb456",
   "metadata": {},
   "outputs": [],
   "source": [
    "                                    # Step #2"
   ]
  },
  {
   "cell_type": "code",
   "execution_count": 87,
   "id": "dbc8dff5",
   "metadata": {},
   "outputs": [],
   "source": [
    "# Detect and remove outliers using the Z-score method or the IQR method."
   ]
  },
  {
   "cell_type": "code",
   "execution_count": 88,
   "id": "cd966310",
   "metadata": {},
   "outputs": [],
   "source": [
    "# Z score method"
   ]
  },
  {
   "cell_type": "code",
   "execution_count": 89,
   "id": "28ed1b39",
   "metadata": {},
   "outputs": [],
   "source": [
    "z_scores = stats.zscore(pdDf_clean[['RATING', 'VOTES', 'RunTime', 'Gross']])"
   ]
  },
  {
   "cell_type": "code",
   "execution_count": null,
   "id": "e34efa5c",
   "metadata": {},
   "outputs": [],
   "source": []
  },
  {
   "cell_type": "code",
   "execution_count": null,
   "id": "3ac8a3b5",
   "metadata": {},
   "outputs": [],
   "source": []
  },
  {
   "cell_type": "code",
   "execution_count": null,
   "id": "b4fccbb0",
   "metadata": {},
   "outputs": [],
   "source": []
  },
  {
   "cell_type": "code",
   "execution_count": null,
   "id": "0339c89d",
   "metadata": {},
   "outputs": [],
   "source": []
  },
  {
   "cell_type": "code",
   "execution_count": 16,
   "id": "d5f58a26",
   "metadata": {},
   "outputs": [
    {
     "name": "stdout",
     "output_type": "stream",
     "text": [
      "Empty DataFrame\n",
      "Columns: [MOVIES, YEAR, GENRE, RATING, ONE-LINE, STARS, VOTES, RunTime, Gross]\n",
      "Index: []\n"
     ]
    }
   ],
   "source": [
    "# Drop rows with missing values in specified columns\n",
    "pdDf_clean = pdDf.dropna(subset=['RATING', 'VOTES', 'RunTime', 'Gross']).copy()\n",
    "\n",
    "# Ensure numerical columns are properly handled\n",
    "pdDf_clean[['RATING', 'VOTES', 'RunTime', 'Gross']] = pdDf_clean[['RATING', 'VOTES', 'RunTime', 'Gross']].apply(pd.to_numeric, errors='coerce')\n",
    "\n",
    "# Drop rows with NaN values after converting to numeric\n",
    "pdDf_clean = pdDf_clean.dropna(subset=['RATING', 'VOTES', 'RunTime', 'Gross'])\n",
    "\n",
    "# Calculate Z-scores for numerical columns\n",
    "z_scores = stats.zscore(pdDf_clean[['RATING', 'VOTES', 'RunTime', 'Gross']])\n",
    "\n",
    "# Apply Z-score threshold for outlier detection\n",
    "outliers = (abs(z_scores) > 3).any(axis=1)\n",
    "\n",
    "# Keep rows where there are no outliers\n",
    "pdDf_no_outliers = pdDf_clean.loc[~outliers]\n",
    "\n",
    "# Verify DataFrame size\n",
    "print(pdDf_no_outliers.shape)\n"
   ]
  },
  {
   "cell_type": "code",
   "execution_count": 47,
   "id": "58c2c280",
   "metadata": {},
   "outputs": [
    {
     "name": "stdout",
     "output_type": "stream",
     "text": [
      "(9568, 9)\n",
      "                                MOVIES         YEAR  \\\n",
      "0                        Blood Red Sky       (2021)   \n",
      "1  Masters of the Universe: Revelation     (2021– )   \n",
      "2                     The Walking Dead  (2010–2022)   \n",
      "3                       Rick and Morty     (2013– )   \n",
      "4                      Army of Thieves       (2021)   \n",
      "\n",
      "                                        GENRE  RATING  \\\n",
      "0      \\nAction, Horror, Thriller                 6.1   \n",
      "1  \\nAnimation, Action, Adventure                 5.0   \n",
      "2       \\nDrama, Horror, Thriller                 8.2   \n",
      "3  \\nAnimation, Adventure, Comedy                 9.2   \n",
      "4         \\nAction, Crime, Horror                 NaN   \n",
      "\n",
      "                                            ONE-LINE  \\\n",
      "0  \\nA woman with a mysterious illness is forced ...   \n",
      "1  \\nThe war for Eternia begins again in what may...   \n",
      "2  \\nSheriff Deputy Rick Grimes wakes up from a c...   \n",
      "3  \\nAn animated series that follows the exploits...   \n",
      "4  \\nA prequel, set before the events of Army of ...   \n",
      "\n",
      "                                               STARS    VOTES  RunTime Gross  \n",
      "0  \\n    Director:\\nPeter Thorwarth\\n| \\n    Star...   21,062    121.0   NaN  \n",
      "1  \\n            \\n    Stars:\\nChris Wood, \\nSara...   17,870     25.0   NaN  \n",
      "2  \\n            \\n    Stars:\\nAndrew Lincoln, \\n...  885,805     44.0   NaN  \n",
      "3  \\n            \\n    Stars:\\nJustin Roiland, \\n...  414,849     23.0   NaN  \n",
      "4  \\n    Director:\\nMatthias Schweighöfer\\n| \\n  ...      NaN      NaN   NaN  \n"
     ]
    }
   ],
   "source": [
    "# Assuming your DataFrame is named pdDf\n",
    "# Remove duplicates based on all columns\n",
    "pdDf_no_duplicates = pdDf.drop_duplicates()\n",
    "\n",
    "# Alternatively, if you only want to consider specific columns for duplicates\n",
    "pdDf_no_duplicates = pdDf.drop_duplicates(subset=['MOVIES', 'YEAR', 'GENRE', 'RATING', 'ONE-LINE', \n",
    "                                                  'STARS', 'VOTES', 'RunTime', 'Gross'])\n",
    "\n",
    "# Display the cleaned DataFrame\n",
    "print(pdDf_no_duplicates.shape)\n",
    "print(pdDf_no_duplicates.head())\n"
   ]
  },
  {
   "cell_type": "code",
   "execution_count": 48,
   "id": "0bad8670",
   "metadata": {},
   "outputs": [
    {
     "name": "stdout",
     "output_type": "stream",
     "text": [
      "(0, 9)\n"
     ]
    }
   ],
   "source": [
    "# Calculate IQR for numerical columns\n",
    "Q1 = pdDf_clean[['RATING', 'VOTES', 'RunTime', 'Gross']].quantile(0.25)\n",
    "Q3 = pdDf_clean[['RATING', 'VOTES', 'RunTime', 'Gross']].quantile(0.75)\n",
    "IQR = Q3 - Q1\n",
    "\n",
    "# Define the bounds\n",
    "lower_bound = Q1 - 1.5 * IQR\n",
    "upper_bound = Q3 + 1.5 * IQR\n",
    "\n",
    "# Create a boolean mask for detecting outliers\n",
    "outliers_iqr = ((pdDf_clean[['RATING', 'VOTES', 'RunTime', 'Gross']] < lower_bound) | \n",
    "                (pdDf_clean[['RATING', 'VOTES', 'RunTime', 'Gross']] > upper_bound)).any(axis=1)\n",
    "\n",
    "# Remove outliers\n",
    "pdDf_no_outliers_iqr = pdDf_clean.loc[~outliers_iqr]\n",
    "\n",
    "# Verify DataFrame size\n",
    "print(pdDf_no_outliers_iqr.shape)\n"
   ]
  },
  {
   "cell_type": "code",
   "execution_count": 49,
   "id": "d679704e",
   "metadata": {},
   "outputs": [
    {
     "name": "stdout",
     "output_type": "stream",
     "text": [
      "                                MOVIES         YEAR  \\\n",
      "0                        blood red sky       (2021)   \n",
      "1  masters of the universe: revelation     (2021– )   \n",
      "2                     the walking dead  (2010–2022)   \n",
      "3                       rick and morty     (2013– )   \n",
      "4                      army of thieves       (2021)   \n",
      "\n",
      "                          GENRE  RATING  \\\n",
      "0      action, horror, thriller     6.1   \n",
      "1  animation, action, adventure     5.0   \n",
      "2       drama, horror, thriller     8.2   \n",
      "3  animation, adventure, comedy     9.2   \n",
      "4         action, crime, horror     NaN   \n",
      "\n",
      "                                            ONE-LINE  \\\n",
      "0  a woman with a mysterious illness is forced in...   \n",
      "1  the war for eternia begins again in what may b...   \n",
      "2  sheriff deputy rick grimes wakes up from a com...   \n",
      "3  an animated series that follows the exploits o...   \n",
      "4  a prequel, set before the events of army of th...   \n",
      "\n",
      "                                               STARS    VOTES  RunTime Gross  \n",
      "0  director:\\npeter thorwarth\\n| \\n    stars:\\npe...   21,062    121.0   NaN  \n",
      "1  stars:\\nchris wood, \\nsarah michelle gellar, \\...   17,870     25.0   NaN  \n",
      "2  stars:\\nandrew lincoln, \\nnorman reedus, \\nmel...  885,805     44.0   NaN  \n",
      "3  stars:\\njustin roiland, \\nchris parnell, \\nspe...  414,849     23.0   NaN  \n",
      "4  director:\\nmatthias schweighöfer\\n| \\n    star...      NaN      NaN   NaN  \n"
     ]
    }
   ],
   "source": [
    "# 1. Standardize text formats\n",
    "pdDf['MOVIES'] = pdDf['MOVIES'].str.strip().str.lower()  # Convert to lowercase and remove leading/trailing spaces\n",
    "pdDf['GENRE'] = pdDf['GENRE'].str.strip().str.lower()\n",
    "pdDf['ONE-LINE'] = pdDf['ONE-LINE'].str.strip().str.lower()\n",
    "pdDf['STARS'] = pdDf['STARS'].str.strip().str.lower()\n",
    "\n",
    "# 2. Merge similar categories\n",
    "# Example: Standardize genres\n",
    "genre_mapping = {\n",
    "    'action': 'Action',\n",
    "    'adventure': 'Adventure',\n",
    "    'comedy': 'Comedy',\n",
    "    'drama': 'Drama',\n",
    "    # Add more mappings as needed\n",
    "}\n",
    "\n",
    "pdDf['GENRE'] = pdDf['GENRE'].map(genre_mapping).fillna(pdDf['GENRE'])\n",
    "\n",
    "# Print the cleaned DataFrame\n",
    "print(pdDf.head())\n"
   ]
  }
 ],
 "metadata": {
  "kernelspec": {
   "display_name": "Python 3 (ipykernel)",
   "language": "python",
   "name": "python3"
  },
  "language_info": {
   "codemirror_mode": {
    "name": "ipython",
    "version": 3
   },
   "file_extension": ".py",
   "mimetype": "text/x-python",
   "name": "python",
   "nbconvert_exporter": "python",
   "pygments_lexer": "ipython3",
   "version": "3.9.12"
  }
 },
 "nbformat": 4,
 "nbformat_minor": 5
}
