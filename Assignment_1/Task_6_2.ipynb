{
 "cells": [
  {
   "cell_type": "code",
   "execution_count": 1,
   "id": "e6f47778",
   "metadata": {},
   "outputs": [],
   "source": [
    "                # Splitting Data into Training and Testing Sets"
   ]
  },
  {
   "cell_type": "code",
   "execution_count": 23,
   "id": "76acd135",
   "metadata": {},
   "outputs": [],
   "source": [
    "import pandas as pd\n",
    "from sklearn.model_selection import train_test_split\n",
    "from sklearn.linear_model import LogisticRegression\n",
    "from sklearn.metrics import accuracy_score"
   ]
  },
  {
   "cell_type": "code",
   "execution_count": 3,
   "id": "3f8e138c",
   "metadata": {},
   "outputs": [],
   "source": [
    "pdDf = pd.read_csv('C:\\\\Users\\\\sulej\\\\OneDrive\\\\Рабочий стол\\\\7 semester\\\\Data Mining\\\\Titanic-Dataset.csv')"
   ]
  },
  {
   "cell_type": "code",
   "execution_count": 4,
   "id": "ba060a11",
   "metadata": {},
   "outputs": [
    {
     "name": "stdout",
     "output_type": "stream",
     "text": [
      "     PassengerId  Survived  Pclass  \\\n",
      "0              1         0       3   \n",
      "1              2         1       1   \n",
      "2              3         1       3   \n",
      "3              4         1       1   \n",
      "4              5         0       3   \n",
      "..           ...       ...     ...   \n",
      "886          887         0       2   \n",
      "887          888         1       1   \n",
      "888          889         0       3   \n",
      "889          890         1       1   \n",
      "890          891         0       3   \n",
      "\n",
      "                                                  Name     Sex   Age  SibSp  \\\n",
      "0                              Braund, Mr. Owen Harris    male  22.0      1   \n",
      "1    Cumings, Mrs. John Bradley (Florence Briggs Th...  female  38.0      1   \n",
      "2                               Heikkinen, Miss. Laina  female  26.0      0   \n",
      "3         Futrelle, Mrs. Jacques Heath (Lily May Peel)  female  35.0      1   \n",
      "4                             Allen, Mr. William Henry    male  35.0      0   \n",
      "..                                                 ...     ...   ...    ...   \n",
      "886                              Montvila, Rev. Juozas    male  27.0      0   \n",
      "887                       Graham, Miss. Margaret Edith  female  19.0      0   \n",
      "888           Johnston, Miss. Catherine Helen \"Carrie\"  female   NaN      1   \n",
      "889                              Behr, Mr. Karl Howell    male  26.0      0   \n",
      "890                                Dooley, Mr. Patrick    male  32.0      0   \n",
      "\n",
      "     Parch            Ticket     Fare Cabin Embarked  \n",
      "0        0         A/5 21171   7.2500   NaN        S  \n",
      "1        0          PC 17599  71.2833   C85        C  \n",
      "2        0  STON/O2. 3101282   7.9250   NaN        S  \n",
      "3        0            113803  53.1000  C123        S  \n",
      "4        0            373450   8.0500   NaN        S  \n",
      "..     ...               ...      ...   ...      ...  \n",
      "886      0            211536  13.0000   NaN        S  \n",
      "887      0            112053  30.0000   B42        S  \n",
      "888      2        W./C. 6607  23.4500   NaN        S  \n",
      "889      0            111369  30.0000  C148        C  \n",
      "890      0            370376   7.7500   NaN        Q  \n",
      "\n",
      "[891 rows x 12 columns]\n"
     ]
    }
   ],
   "source": [
    "print(pdDf)"
   ]
  },
  {
   "cell_type": "code",
   "execution_count": 5,
   "id": "7863502a",
   "metadata": {},
   "outputs": [
    {
     "name": "stdout",
     "output_type": "stream",
     "text": [
      "PassengerId      int64\n",
      "Survived         int64\n",
      "Pclass           int64\n",
      "Name            object\n",
      "Sex             object\n",
      "Age            float64\n",
      "SibSp            int64\n",
      "Parch            int64\n",
      "Ticket          object\n",
      "Fare           float64\n",
      "Cabin           object\n",
      "Embarked        object\n",
      "dtype: object\n"
     ]
    }
   ],
   "source": [
    "print(pdDf.dtypes)"
   ]
  },
  {
   "cell_type": "code",
   "execution_count": 6,
   "id": "00259965",
   "metadata": {},
   "outputs": [],
   "source": [
    "                            #Step #1"
   ]
  },
  {
   "cell_type": "code",
   "execution_count": 7,
   "id": "2ce8f40a",
   "metadata": {},
   "outputs": [],
   "source": [
    "# First of all lets prepare our data "
   ]
  },
  {
   "cell_type": "code",
   "execution_count": 8,
   "id": "66e4a194",
   "metadata": {},
   "outputs": [],
   "source": [
    "# We can drop columns that we dont need for prediction\n",
    "x = pdDf.drop(columns=['Survived', 'Name', 'Ticket', 'Cabin'])\n",
    "y = pdDf['Survived']"
   ]
  },
  {
   "cell_type": "code",
   "execution_count": 9,
   "id": "637b6f9f",
   "metadata": {},
   "outputs": [
    {
     "name": "stdout",
     "output_type": "stream",
     "text": [
      "PassengerId      int64\n",
      "Pclass           int64\n",
      "Sex             object\n",
      "Age            float64\n",
      "SibSp            int64\n",
      "Parch            int64\n",
      "Fare           float64\n",
      "Embarked        object\n",
      "dtype: object\n"
     ]
    }
   ],
   "source": [
    "print(x.dtypes)"
   ]
  },
  {
   "cell_type": "code",
   "execution_count": 10,
   "id": "725519cb",
   "metadata": {},
   "outputs": [
    {
     "name": "stdout",
     "output_type": "stream",
     "text": [
      "int64\n"
     ]
    }
   ],
   "source": [
    "print(y.dtypes)"
   ]
  },
  {
   "cell_type": "code",
   "execution_count": 11,
   "id": "7613de82",
   "metadata": {},
   "outputs": [],
   "source": [
    "# As we can see we have numerical and categorical data\n",
    "# So we need to convert our categorical data to numerical by using get_dummies\n",
    "x = pd.get_dummies(x, columns = ['Sex', 'Embarked'], drop_first=True)"
   ]
  },
  {
   "cell_type": "code",
   "execution_count": 12,
   "id": "94188193",
   "metadata": {},
   "outputs": [],
   "source": [
    "x['Age'].replace(['', 'NaN', 'nan'], pd.NA, inplace=True)  # Standardize missing values\n",
    "x['Age'] = x['Age'].fillna(x['Age'].median())"
   ]
  },
  {
   "cell_type": "code",
   "execution_count": 13,
   "id": "8a54727f",
   "metadata": {},
   "outputs": [
    {
     "name": "stdout",
     "output_type": "stream",
     "text": [
      "     PassengerId  Pclass   Age  SibSp  Parch     Fare  Sex_male  Embarked_Q  \\\n",
      "0              1       3  22.0      1      0   7.2500         1           0   \n",
      "1              2       1  38.0      1      0  71.2833         0           0   \n",
      "2              3       3  26.0      0      0   7.9250         0           0   \n",
      "3              4       1  35.0      1      0  53.1000         0           0   \n",
      "4              5       3  35.0      0      0   8.0500         1           0   \n",
      "..           ...     ...   ...    ...    ...      ...       ...         ...   \n",
      "886          887       2  27.0      0      0  13.0000         1           0   \n",
      "887          888       1  19.0      0      0  30.0000         0           0   \n",
      "888          889       3  28.0      1      2  23.4500         0           0   \n",
      "889          890       1  26.0      0      0  30.0000         1           0   \n",
      "890          891       3  32.0      0      0   7.7500         1           1   \n",
      "\n",
      "     Embarked_S  \n",
      "0             1  \n",
      "1             0  \n",
      "2             1  \n",
      "3             1  \n",
      "4             1  \n",
      "..          ...  \n",
      "886           1  \n",
      "887           1  \n",
      "888           1  \n",
      "889           0  \n",
      "890           0  \n",
      "\n",
      "[891 rows x 9 columns]\n"
     ]
    }
   ],
   "source": [
    "print(x)"
   ]
  },
  {
   "cell_type": "code",
   "execution_count": 17,
   "id": "3642b37b",
   "metadata": {},
   "outputs": [
    {
     "name": "stdout",
     "output_type": "stream",
     "text": [
      "PassengerId    0\n",
      "Pclass         0\n",
      "Age            0\n",
      "SibSp          0\n",
      "Parch          0\n",
      "Fare           0\n",
      "Sex_male       0\n",
      "Embarked_Q     0\n",
      "Embarked_S     0\n",
      "dtype: int64\n"
     ]
    }
   ],
   "source": [
    "print(x.isnull().sum())"
   ]
  },
  {
   "cell_type": "code",
   "execution_count": 20,
   "id": "d0132493",
   "metadata": {},
   "outputs": [],
   "source": [
    "# Now we can split our dataset to training and testing sets\n",
    "# 80% to 20%\n",
    "x_train_80, x_test_20, y_train_80, y_test_20 = train_test_split(x, y, test_size=0.2, random_state=42)"
   ]
  },
  {
   "cell_type": "code",
   "execution_count": 30,
   "id": "2f5b4c71",
   "metadata": {},
   "outputs": [],
   "source": [
    "# Create model\n",
    "model_80_20 = LogisticRegression(max_iter=800)"
   ]
  },
  {
   "cell_type": "code",
   "execution_count": 31,
   "id": "6612d291",
   "metadata": {},
   "outputs": [
    {
     "data": {
      "text/plain": [
       "LogisticRegression(max_iter=800)"
      ]
     },
     "execution_count": 31,
     "metadata": {},
     "output_type": "execute_result"
    }
   ],
   "source": [
    "model_80_20.fit(x_train_80, y_train_80)"
   ]
  },
  {
   "cell_type": "code",
   "execution_count": 32,
   "id": "1a2412e1",
   "metadata": {},
   "outputs": [],
   "source": [
    "# Prediction of test\n",
    "y_pred_80_20 = model_80_20.predict(x_test_20)"
   ]
  },
  {
   "cell_type": "code",
   "execution_count": 34,
   "id": "f52464b4",
   "metadata": {},
   "outputs": [
    {
     "name": "stdout",
     "output_type": "stream",
     "text": [
      "0.8044692737430168\n"
     ]
    }
   ],
   "source": [
    "# Lets see how accurate our prediction is\n",
    "accuracy_80_20 = accuracy_score(y_test_20, y_pred_80_20)\n",
    "print(accuracy_80_20)"
   ]
  },
  {
   "cell_type": "code",
   "execution_count": 36,
   "id": "2c229a4f",
   "metadata": {},
   "outputs": [],
   "source": [
    "# Now lets see 70-30 split ratio\n",
    "x_train_70, x_test_30, y_train_70, y_test_30 = train_test_split(x, y, test_size=0.3, random_state=42)"
   ]
  },
  {
   "cell_type": "code",
   "execution_count": 38,
   "id": "8cb9f3a6",
   "metadata": {},
   "outputs": [
    {
     "data": {
      "text/plain": [
       "LogisticRegression(max_iter=800)"
      ]
     },
     "execution_count": 38,
     "metadata": {},
     "output_type": "execute_result"
    }
   ],
   "source": [
    "# Create a model\n",
    "model_70_30 = LogisticRegression(max_iter=800)\n",
    "model_70_30.fit(x_train_70, y_train_70)"
   ]
  },
  {
   "cell_type": "code",
   "execution_count": 39,
   "id": "5bd18a8c",
   "metadata": {},
   "outputs": [],
   "source": [
    "# Prediction of test data\n",
    "y_pred_70_30 = model_70_30.predict(x_test_30)"
   ]
  },
  {
   "cell_type": "code",
   "execution_count": 40,
   "id": "e3ad4cc0",
   "metadata": {},
   "outputs": [
    {
     "name": "stdout",
     "output_type": "stream",
     "text": [
      "0.8059701492537313\n"
     ]
    }
   ],
   "source": [
    "# Accuracy\n",
    "accuracy_70_30 = accuracy_score(y_test_30, y_pred_70_30)\n",
    "print(accuracy_70_30)"
   ]
  },
  {
   "cell_type": "code",
   "execution_count": null,
   "id": "d41df799",
   "metadata": {},
   "outputs": [],
   "source": []
  }
 ],
 "metadata": {
  "kernelspec": {
   "display_name": "Python 3 (ipykernel)",
   "language": "python",
   "name": "python3"
  },
  "language_info": {
   "codemirror_mode": {
    "name": "ipython",
    "version": 3
   },
   "file_extension": ".py",
   "mimetype": "text/x-python",
   "name": "python",
   "nbconvert_exporter": "python",
   "pygments_lexer": "ipython3",
   "version": "3.9.12"
  }
 },
 "nbformat": 4,
 "nbformat_minor": 5
}
