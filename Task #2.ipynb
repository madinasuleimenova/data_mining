{
 "cells": [
  {
   "cell_type": "code",
   "execution_count": 73,
   "id": "688526bd",
   "metadata": {},
   "outputs": [],
   "source": [
    "import pandas as pd\n",
    "import numpy as np\n",
    "import pickle"
   ]
  },
  {
   "cell_type": "code",
   "execution_count": 82,
   "id": "f4dec259",
   "metadata": {},
   "outputs": [],
   "source": [
    "# First lest create a dataframe"
   ]
  },
  {
   "cell_type": "code",
   "execution_count": 83,
   "id": "dd0476a4",
   "metadata": {},
   "outputs": [],
   "source": [
    "pdDf = pd.read_csv('C:\\\\Users\\\\sulej\\\\OneDrive\\\\Рабочий стол\\\\7 semester\\\\Data Mining\\\\StudentScores.csv')"
   ]
  },
  {
   "cell_type": "code",
   "execution_count": 84,
   "id": "fa716892",
   "metadata": {},
   "outputs": [
    {
     "data": {
      "text/html": [
       "<div>\n",
       "<style scoped>\n",
       "    .dataframe tbody tr th:only-of-type {\n",
       "        vertical-align: middle;\n",
       "    }\n",
       "\n",
       "    .dataframe tbody tr th {\n",
       "        vertical-align: top;\n",
       "    }\n",
       "\n",
       "    .dataframe thead th {\n",
       "        text-align: right;\n",
       "    }\n",
       "</style>\n",
       "<table border=\"1\" class=\"dataframe\">\n",
       "  <thead>\n",
       "    <tr style=\"text-align: right;\">\n",
       "      <th></th>\n",
       "      <th>First</th>\n",
       "      <th>Last</th>\n",
       "      <th>Math</th>\n",
       "      <th>Physics</th>\n",
       "      <th>Computers</th>\n",
       "    </tr>\n",
       "  </thead>\n",
       "  <tbody>\n",
       "    <tr>\n",
       "      <th>0</th>\n",
       "      <td>John</td>\n",
       "      <td>Dalbury</td>\n",
       "      <td>71.0</td>\n",
       "      <td>34.0</td>\n",
       "      <td>16.0</td>\n",
       "    </tr>\n",
       "    <tr>\n",
       "      <th>1</th>\n",
       "      <td>Steve</td>\n",
       "      <td>Singh</td>\n",
       "      <td>28.0</td>\n",
       "      <td>72.0</td>\n",
       "      <td>69.0</td>\n",
       "    </tr>\n",
       "    <tr>\n",
       "      <th>2</th>\n",
       "      <td>Tom</td>\n",
       "      <td>Lloyd</td>\n",
       "      <td>48.0</td>\n",
       "      <td>43.0</td>\n",
       "      <td>79.0</td>\n",
       "    </tr>\n",
       "    <tr>\n",
       "      <th>3</th>\n",
       "      <td>Mo</td>\n",
       "      <td>Coffey</td>\n",
       "      <td>47.0</td>\n",
       "      <td>30.0</td>\n",
       "      <td>42.0</td>\n",
       "    </tr>\n",
       "    <tr>\n",
       "      <th>4</th>\n",
       "      <td>Misha</td>\n",
       "      <td>Baker</td>\n",
       "      <td>3.0</td>\n",
       "      <td>5.0</td>\n",
       "      <td>34.0</td>\n",
       "    </tr>\n",
       "  </tbody>\n",
       "</table>\n",
       "</div>"
      ],
      "text/plain": [
       "   First     Last  Math  Physics  Computers\n",
       "0   John  Dalbury  71.0     34.0       16.0\n",
       "1  Steve    Singh  28.0     72.0       69.0\n",
       "2    Tom    Lloyd  48.0     43.0       79.0\n",
       "3     Mo   Coffey  47.0     30.0       42.0\n",
       "4  Misha    Baker   3.0      5.0       34.0"
      ]
     },
     "execution_count": 84,
     "metadata": {},
     "output_type": "execute_result"
    }
   ],
   "source": [
    "pdDf.head()"
   ]
  },
  {
   "cell_type": "code",
   "execution_count": 85,
   "id": "c9b15c0c",
   "metadata": {},
   "outputs": [],
   "source": [
    "# Identify missing values in the dataset using isnull().sum()."
   ]
  },
  {
   "cell_type": "code",
   "execution_count": 86,
   "id": "089eebde",
   "metadata": {},
   "outputs": [
    {
     "data": {
      "text/plain": [
       "First        0\n",
       "Last         0\n",
       "Math         2\n",
       "Physics      3\n",
       "Computers    4\n",
       "dtype: int64"
      ]
     },
     "execution_count": 86,
     "metadata": {},
     "output_type": "execute_result"
    }
   ],
   "source": [
    "pdDf.isnull().sum()"
   ]
  },
  {
   "cell_type": "code",
   "execution_count": 87,
   "id": "7a55af2e",
   "metadata": {},
   "outputs": [],
   "source": [
    "#  Usedifferent strategies to handle missing data:\n",
    "#  Remove rows with missing values using dropna().\n",
    "#  Fill missing values with the mean, median, or a specific value using\n",
    "#  fillna()."
   ]
  },
  {
   "cell_type": "code",
   "execution_count": 88,
   "id": "a7f8a528",
   "metadata": {},
   "outputs": [],
   "source": [
    "pdDf_cleaned = pdDf.dropna()"
   ]
  },
  {
   "cell_type": "code",
   "execution_count": 89,
   "id": "3bcf7fa8",
   "metadata": {},
   "outputs": [],
   "source": [
    "pdDf_orig = pdDf.copy()"
   ]
  },
  {
   "cell_type": "code",
   "execution_count": 90,
   "id": "87a7b7ad",
   "metadata": {},
   "outputs": [
    {
     "name": "stdout",
     "output_type": "stream",
     "text": [
      "     First     Last  Math  Physics  Computers\n",
      "0     John  Dalbury  71.0     34.0       16.0\n",
      "1    Steve    Singh  28.0     72.0       69.0\n",
      "2      Tom    Lloyd  48.0     43.0       79.0\n",
      "3       Mo   Coffey  47.0     30.0       42.0\n",
      "4    Misha    Baker   3.0      5.0       34.0\n",
      "..     ...      ...   ...      ...        ...\n",
      "97   Steve    Allen  41.0     81.0       46.0\n",
      "98    Emma   McLeod  60.0     61.0       77.0\n",
      "99    Jade    Hills  10.0      4.0       47.0\n",
      "100  Steve   Beames  94.0     71.0       50.0\n",
      "101    Nia   Cooper  92.0     74.0        5.0\n",
      "\n",
      "[93 rows x 5 columns]\n"
     ]
    }
   ],
   "source": [
    "print(pdDf_cleaned)"
   ]
  },
  {
   "cell_type": "code",
   "execution_count": 91,
   "id": "f4526a35",
   "metadata": {},
   "outputs": [],
   "source": [
    "pdDf['Math'] = pdDf['Math'].fillna(pdDf['Math'].mean())"
   ]
  },
  {
   "cell_type": "code",
   "execution_count": 92,
   "id": "88d0b3a5",
   "metadata": {},
   "outputs": [],
   "source": [
    "filled_values = pdDf['Math'] != pdDf_orig['Math']"
   ]
  },
  {
   "cell_type": "code",
   "execution_count": 93,
   "id": "a5270427",
   "metadata": {},
   "outputs": [
    {
     "name": "stdout",
     "output_type": "stream",
     "text": [
      "0      False\n",
      "1      False\n",
      "2      False\n",
      "3      False\n",
      "4      False\n",
      "       ...  \n",
      "97     False\n",
      "98     False\n",
      "99     False\n",
      "100    False\n",
      "101    False\n",
      "Name: Math, Length: 102, dtype: bool\n"
     ]
    }
   ],
   "source": [
    "print(filled_values)\n",
    "# It just shows boolian ==> Did we change smth or not"
   ]
  },
  {
   "cell_type": "code",
   "execution_count": 94,
   "id": "45e09e03",
   "metadata": {},
   "outputs": [
    {
     "name": "stdout",
     "output_type": "stream",
     "text": [
      "      First     Last   Math  Physics  Computers\n",
      "72  Claudia  Wrigley  47.15     85.0       41.0\n",
      "93   Jordan   Sanger  47.15     31.0       39.0\n"
     ]
    }
   ],
   "source": [
    "print(pdDf[filled_values])"
   ]
  },
  {
   "cell_type": "code",
   "execution_count": 95,
   "id": "6589a3a7",
   "metadata": {},
   "outputs": [],
   "source": [
    "pdDf['Physics'] = pdDf['Physics'].fillna(pdDf['Physics'].median())"
   ]
  },
  {
   "cell_type": "code",
   "execution_count": 96,
   "id": "cf4edb0c",
   "metadata": {},
   "outputs": [],
   "source": [
    "filled_values_median = pdDf['Physics'] != pdDf_orig['Physics']"
   ]
  },
  {
   "cell_type": "code",
   "execution_count": 97,
   "id": "0ddb8027",
   "metadata": {},
   "outputs": [
    {
     "name": "stdout",
     "output_type": "stream",
     "text": [
      "     First         Last  Math  Physics  Computers\n",
      "36     Tom       Corbyn  36.0     60.0       52.0\n",
      "61  Darius  Fitzpatrick  29.0     60.0       24.0\n",
      "73  Aiyden        Nurse   6.0     60.0        9.0\n"
     ]
    }
   ],
   "source": [
    "print(pdDf[filled_values_median])"
   ]
  },
  {
   "cell_type": "code",
   "execution_count": 98,
   "id": "2ce7895f",
   "metadata": {},
   "outputs": [],
   "source": [
    "pdDf['Computers'] = pdDf['Computers'].fillna('Unknown')"
   ]
  },
  {
   "cell_type": "code",
   "execution_count": 99,
   "id": "e835a739",
   "metadata": {},
   "outputs": [],
   "source": [
    "filling_data_sp_val = pdDf['Computers'] != pdDf_orig['Computers']"
   ]
  },
  {
   "cell_type": "code",
   "execution_count": 100,
   "id": "7eb7fb00",
   "metadata": {},
   "outputs": [
    {
     "name": "stdout",
     "output_type": "stream",
     "text": [
      "     First        Last  Math  Physics Computers\n",
      "78     Nia  Holdsworth  31.0     13.0   Unknown\n",
      "87    Rich    Williams  88.0     65.0   Unknown\n",
      "90     Nia       Baker  55.0     14.0   Unknown\n",
      "91  Harper        Tuck  94.0     33.0   Unknown\n"
     ]
    }
   ],
   "source": [
    "print(pdDf[filling_data_sp_val])"
   ]
  },
  {
   "cell_type": "code",
   "execution_count": 101,
   "id": "2547cfe0",
   "metadata": {},
   "outputs": [],
   "source": [
    "#  Useforward or backward filling (ffill() or bfill()) to fill missing\n",
    "#  data."
   ]
  },
  {
   "cell_type": "code",
   "execution_count": 102,
   "id": "f6cf11f9",
   "metadata": {},
   "outputs": [
    {
     "name": "stdout",
     "output_type": "stream",
     "text": [
      "     First     Last  Math  Physics  Computers\n",
      "0     John  Dalbury  71.0     34.0       16.0\n",
      "1    Steve    Singh  28.0     72.0       69.0\n",
      "2      Tom    Lloyd  48.0     43.0       79.0\n",
      "3       Mo   Coffey  47.0     30.0       42.0\n",
      "4    Misha    Baker   3.0      5.0       34.0\n",
      "..     ...      ...   ...      ...        ...\n",
      "97   Steve    Allen  41.0     81.0       46.0\n",
      "98    Emma   McLeod  60.0     61.0       77.0\n",
      "99    Jade    Hills  10.0      4.0       47.0\n",
      "100  Steve   Beames  94.0     71.0       50.0\n",
      "101    Nia   Cooper  92.0     74.0        5.0\n",
      "\n",
      "[102 rows x 5 columns]\n"
     ]
    }
   ],
   "source": [
    "print(pdDf_orig)"
   ]
  },
  {
   "cell_type": "code",
   "execution_count": 103,
   "id": "3606fae4",
   "metadata": {},
   "outputs": [],
   "source": [
    "pdDf_2 = pdDf_orig.copy()"
   ]
  },
  {
   "cell_type": "code",
   "execution_count": 104,
   "id": "e7154ee1",
   "metadata": {},
   "outputs": [
    {
     "data": {
      "text/plain": [
       "First        0\n",
       "Last         0\n",
       "Math         2\n",
       "Physics      3\n",
       "Computers    4\n",
       "dtype: int64"
      ]
     },
     "execution_count": 104,
     "metadata": {},
     "output_type": "execute_result"
    }
   ],
   "source": [
    "pdDf_2.isnull().sum()"
   ]
  },
  {
   "cell_type": "code",
   "execution_count": 105,
   "id": "456f8f98",
   "metadata": {},
   "outputs": [],
   "source": [
    "pdDf_2['Math'] = pdDf_2['Math'].ffill()"
   ]
  },
  {
   "cell_type": "code",
   "execution_count": 111,
   "id": "46874065",
   "metadata": {},
   "outputs": [],
   "source": [
    "filled_values = pdDf_2['Math'] != pdDf_orig['Math']"
   ]
  },
  {
   "cell_type": "code",
   "execution_count": 112,
   "id": "f6051c3b",
   "metadata": {},
   "outputs": [
    {
     "name": "stdout",
     "output_type": "stream",
     "text": [
      "      First     Last  Math  Physics  Computers\n",
      "72  Claudia  Wrigley  26.0     85.0       41.0\n",
      "93   Jordan   Sanger  61.0     31.0       39.0\n"
     ]
    }
   ],
   "source": [
    "print(pdDf_2[filled_values])   # So ffill() filles our missing value with value in previous row"
   ]
  },
  {
   "cell_type": "code",
   "execution_count": 113,
   "id": "52633aeb",
   "metadata": {},
   "outputs": [],
   "source": [
    "pdDf_2['Computers'] = pdDf_2['Computers'].bfill()"
   ]
  },
  {
   "cell_type": "code",
   "execution_count": 114,
   "id": "8ba477a5",
   "metadata": {},
   "outputs": [],
   "source": [
    "filled_values_bf = pdDf_2['Computers'] != pdDf_orig['Computers']"
   ]
  },
  {
   "cell_type": "code",
   "execution_count": 119,
   "id": "a126952f",
   "metadata": {
    "scrolled": true
   },
   "outputs": [
    {
     "name": "stdout",
     "output_type": "stream",
     "text": [
      "     First        Last  Math  Physics  Computers\n",
      "78     Nia  Holdsworth  31.0     13.0       27.0\n",
      "87    Rich    Williams  88.0     65.0       74.0\n",
      "90     Nia       Baker  55.0     14.0       77.0\n",
      "91  Harper        Tuck  94.0     33.0       77.0\n"
     ]
    }
   ],
   "source": [
    "print(pdDf_2[filled_values_bf])"
   ]
  },
  {
   "cell_type": "code",
   "execution_count": 120,
   "id": "d8bf047d",
   "metadata": {},
   "outputs": [],
   "source": [
    "pdDf_2['Physics'] = pdDf_2['Physics'].bfill()"
   ]
  },
  {
   "cell_type": "code",
   "execution_count": 121,
   "id": "74c1f7f2",
   "metadata": {},
   "outputs": [],
   "source": [
    "filled_values3 = pdDf_2['Physics'] != pdDf_orig['Physics']"
   ]
  },
  {
   "cell_type": "code",
   "execution_count": 122,
   "id": "5486a6ba",
   "metadata": {},
   "outputs": [
    {
     "name": "stdout",
     "output_type": "stream",
     "text": [
      "     First         Last  Math  Physics  Computers\n",
      "36     Tom       Corbyn  36.0     11.0       52.0\n",
      "61  Darius  Fitzpatrick  29.0     86.0       24.0\n",
      "73  Aiyden        Nurse   6.0      2.0        9.0\n"
     ]
    }
   ],
   "source": [
    "print(pdDf_2[filled_values3])"
   ]
  }
 ],
 "metadata": {
  "kernelspec": {
   "display_name": "Python 3 (ipykernel)",
   "language": "python",
   "name": "python3"
  },
  "language_info": {
   "codemirror_mode": {
    "name": "ipython",
    "version": 3
   },
   "file_extension": ".py",
   "mimetype": "text/x-python",
   "name": "python",
   "nbconvert_exporter": "python",
   "pygments_lexer": "ipython3",
   "version": "3.9.12"
  }
 },
 "nbformat": 4,
 "nbformat_minor": 5
}
